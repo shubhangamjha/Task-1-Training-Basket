{
 "cells": [
  {
   "cell_type": "code",
   "execution_count": 219,
   "id": "initial_id",
   "metadata": {
    "collapsed": true,
    "ExecuteTime": {
     "end_time": "2023-08-27T11:50:56.495273Z",
     "start_time": "2023-08-27T11:50:56.471898500Z"
    }
   },
   "outputs": [],
   "source": [
    "import pandas as pd\n",
    "import numpy as np\n",
    "import matplotlib.pyplot as plt\n",
    "import seaborn as sns"
   ]
  },
  {
   "cell_type": "markdown",
   "source": [
    "# **Understanding Data of Order Report by Company X**"
   ],
   "metadata": {
    "collapsed": false
   },
   "id": "1aa3ce7ffcb5084d"
  },
  {
   "cell_type": "markdown",
   "source": [
    "## **reading the excel file**"
   ],
   "metadata": {
    "collapsed": false
   },
   "id": "35b3aea8daa8e5c0"
  },
  {
   "cell_type": "code",
   "execution_count": 295,
   "outputs": [],
   "source": [
    "a = pd.read_excel(\"C:\\\\Users\\\\shubh\\\\OneDrive\\\\Desktop\\\\Desktop\\\\Programming\\\\Training\\\\task1\\\\code\\\\Data-20230825T133440Z-001\\\\Data\\Company X - Order Report.xlsx\")"
   ],
   "metadata": {
    "collapsed": false,
    "ExecuteTime": {
     "end_time": "2023-08-27T13:25:25.104663500Z",
     "start_time": "2023-08-27T13:25:25.038850600Z"
    }
   },
   "id": "3935e31b065617c4"
  },
  {
   "cell_type": "code",
   "execution_count": 221,
   "outputs": [
    {
     "data": {
      "text/plain": "     ExternOrderNo            SKU  Order Qty\n0       2001827036  8904223818706        1.0\n1       2001827036  8904223819093        1.0\n2       2001827036  8904223819109        1.0\n3       2001827036  8904223818430        1.0\n4       2001827036  8904223819277        1.0\n..             ...            ...        ...\n395     2001806229  8904223818942        1.0\n396     2001806229  8904223818850        1.0\n397     2001806226  8904223818850        2.0\n398     2001806210  8904223816214        1.0\n399     2001806210  8904223818874        1.0\n\n[400 rows x 3 columns]",
      "text/html": "<div>\n<style scoped>\n    .dataframe tbody tr th:only-of-type {\n        vertical-align: middle;\n    }\n\n    .dataframe tbody tr th {\n        vertical-align: top;\n    }\n\n    .dataframe thead th {\n        text-align: right;\n    }\n</style>\n<table border=\"1\" class=\"dataframe\">\n  <thead>\n    <tr style=\"text-align: right;\">\n      <th></th>\n      <th>ExternOrderNo</th>\n      <th>SKU</th>\n      <th>Order Qty</th>\n    </tr>\n  </thead>\n  <tbody>\n    <tr>\n      <th>0</th>\n      <td>2001827036</td>\n      <td>8904223818706</td>\n      <td>1.0</td>\n    </tr>\n    <tr>\n      <th>1</th>\n      <td>2001827036</td>\n      <td>8904223819093</td>\n      <td>1.0</td>\n    </tr>\n    <tr>\n      <th>2</th>\n      <td>2001827036</td>\n      <td>8904223819109</td>\n      <td>1.0</td>\n    </tr>\n    <tr>\n      <th>3</th>\n      <td>2001827036</td>\n      <td>8904223818430</td>\n      <td>1.0</td>\n    </tr>\n    <tr>\n      <th>4</th>\n      <td>2001827036</td>\n      <td>8904223819277</td>\n      <td>1.0</td>\n    </tr>\n    <tr>\n      <th>...</th>\n      <td>...</td>\n      <td>...</td>\n      <td>...</td>\n    </tr>\n    <tr>\n      <th>395</th>\n      <td>2001806229</td>\n      <td>8904223818942</td>\n      <td>1.0</td>\n    </tr>\n    <tr>\n      <th>396</th>\n      <td>2001806229</td>\n      <td>8904223818850</td>\n      <td>1.0</td>\n    </tr>\n    <tr>\n      <th>397</th>\n      <td>2001806226</td>\n      <td>8904223818850</td>\n      <td>2.0</td>\n    </tr>\n    <tr>\n      <th>398</th>\n      <td>2001806210</td>\n      <td>8904223816214</td>\n      <td>1.0</td>\n    </tr>\n    <tr>\n      <th>399</th>\n      <td>2001806210</td>\n      <td>8904223818874</td>\n      <td>1.0</td>\n    </tr>\n  </tbody>\n</table>\n<p>400 rows × 3 columns</p>\n</div>"
     },
     "execution_count": 221,
     "metadata": {},
     "output_type": "execute_result"
    }
   ],
   "source": [
    "a"
   ],
   "metadata": {
    "collapsed": false,
    "ExecuteTime": {
     "end_time": "2023-08-27T11:50:58.285126900Z",
     "start_time": "2023-08-27T11:50:58.252133500Z"
    }
   },
   "id": "eb0010530f5216b8"
  },
  {
   "cell_type": "code",
   "execution_count": 222,
   "outputs": [
    {
     "data": {
      "text/plain": "(400, 3)"
     },
     "execution_count": 222,
     "metadata": {},
     "output_type": "execute_result"
    }
   ],
   "source": [
    "a.shape"
   ],
   "metadata": {
    "collapsed": false,
    "ExecuteTime": {
     "end_time": "2023-08-27T11:50:58.515386200Z",
     "start_time": "2023-08-27T11:50:58.475002300Z"
    }
   },
   "id": "b236e9d804245081"
  },
  {
   "cell_type": "code",
   "execution_count": 223,
   "outputs": [
    {
     "data": {
      "text/plain": "Index(['ExternOrderNo', 'SKU', 'Order Qty'], dtype='object')"
     },
     "execution_count": 223,
     "metadata": {},
     "output_type": "execute_result"
    }
   ],
   "source": [
    "a.columns"
   ],
   "metadata": {
    "collapsed": false,
    "ExecuteTime": {
     "end_time": "2023-08-27T11:50:59.177107500Z",
     "start_time": "2023-08-27T11:50:59.174866500Z"
    }
   },
   "id": "90963b51b3719981"
  },
  {
   "cell_type": "code",
   "execution_count": 224,
   "outputs": [
    {
     "data": {
      "text/plain": "<bound method DataFrame.info of      ExternOrderNo            SKU  Order Qty\n0       2001827036  8904223818706        1.0\n1       2001827036  8904223819093        1.0\n2       2001827036  8904223819109        1.0\n3       2001827036  8904223818430        1.0\n4       2001827036  8904223819277        1.0\n..             ...            ...        ...\n395     2001806229  8904223818942        1.0\n396     2001806229  8904223818850        1.0\n397     2001806226  8904223818850        2.0\n398     2001806210  8904223816214        1.0\n399     2001806210  8904223818874        1.0\n\n[400 rows x 3 columns]>"
     },
     "execution_count": 224,
     "metadata": {},
     "output_type": "execute_result"
    }
   ],
   "source": [
    "a.info"
   ],
   "metadata": {
    "collapsed": false,
    "ExecuteTime": {
     "end_time": "2023-08-27T11:50:59.585293600Z",
     "start_time": "2023-08-27T11:50:59.545345600Z"
    }
   },
   "id": "fb240345ff47d0f3"
  },
  {
   "cell_type": "markdown",
   "source": [
    "### Arrangin data accorning to External Order Number"
   ],
   "metadata": {
    "collapsed": false
   },
   "id": "8faf6a8f99d22cde"
  },
  {
   "cell_type": "code",
   "execution_count": 225,
   "outputs": [
    {
     "name": "stdout",
     "output_type": "stream",
     "text": [
      "     ExternOrderNo  SKU  Order Qty\n",
      "0       2001827036    8          8\n",
      "1       2001825261    5          5\n",
      "2       2001823564    3          3\n",
      "3       2001822466    2          2\n",
      "4       2001821995    2          2\n",
      "..             ...  ...        ...\n",
      "119     2001806233    2          2\n",
      "120     2001806232    2          2\n",
      "121     2001806229    3          3\n",
      "122     2001806226    1          1\n",
      "123     2001806210    2          2\n",
      "\n",
      "[124 rows x 3 columns]\n"
     ]
    }
   ],
   "source": [
    "b = a.groupby('ExternOrderNo').count().sort_values('ExternOrderNo', ascending=False).reset_index()\n",
    "print(b)"
   ],
   "metadata": {
    "collapsed": false,
    "ExecuteTime": {
     "end_time": "2023-08-27T11:51:00.594974Z",
     "start_time": "2023-08-27T11:51:00.565096200Z"
    }
   },
   "id": "1ebac503faa5768d"
  },
  {
   "cell_type": "markdown",
   "source": [
    "### Plotting Graph for this data"
   ],
   "metadata": {
    "collapsed": false
   },
   "id": "bd5b5618586b395a"
  },
  {
   "cell_type": "code",
   "execution_count": 235,
   "outputs": [
    {
     "data": {
      "text/plain": "<Figure size 1000x400 with 1 Axes>",
      "image/png": "[encoded data removed]"
     },
     "metadata": {},
     "output_type": "display_data"
    }
   ],
   "source": [
    "plt.gcf()\n",
    "sns.barplot(data=b, x = 'ExternOrderNo', y='Order Qty')\n",
    "plt.xlabel(\"External order number\")\n",
    "plt.ylabel('Order Quantity as Well as SKU')\n",
    "plt.xticks(rotation=90)\n",
    "plt.rcParams['figure.figsize'] = [10,4]\n",
    "plt.rcParams['font.size'] = 7\n",
    "plt.show()"
   ],
   "metadata": {
    "collapsed": false,
    "ExecuteTime": {
     "end_time": "2023-08-27T11:52:40.818015600Z",
     "start_time": "2023-08-27T11:52:39.476140500Z"
    }
   },
   "id": "b70617a92ac59f42"
  },
  {
   "cell_type": "markdown",
   "source": [
    "# **Understanding  the Data of pincode zones by Company X**"
   ],
   "metadata": {
    "collapsed": false
   },
   "id": "6187a02825147838"
  },
  {
   "cell_type": "markdown",
   "source": [
    "### Importing Dataset"
   ],
   "metadata": {
    "collapsed": false
   },
   "id": "e65c2529ab1773de"
  },
  {
   "cell_type": "code",
   "execution_count": 236,
   "outputs": [],
   "source": [
    "c = pd.read_excel(\"Data-20230825T133440Z-001/Data/Company X - Pincode Zones.xlsx\")"
   ],
   "metadata": {
    "collapsed": false,
    "ExecuteTime": {
     "end_time": "2023-08-27T11:52:47.396565600Z",
     "start_time": "2023-08-27T11:52:47.370017900Z"
    }
   },
   "id": "58441812bb37ca54"
  },
  {
   "cell_type": "markdown",
   "source": [
    "Understanding type and structure of dataset"
   ],
   "metadata": {
    "collapsed": false
   },
   "id": "574adf6d0110df6f"
  },
  {
   "cell_type": "code",
   "execution_count": 237,
   "outputs": [
    {
     "data": {
      "text/plain": "   Warehouse Pincode  Customer Pincode Zone\n0             121003            507101    d\n1             121003            486886    d\n2             121003            532484    d\n3             121003            143001    b\n4             121003            515591    d",
      "text/html": "<div>\n<style scoped>\n    .dataframe tbody tr th:only-of-type {\n        vertical-align: middle;\n    }\n\n    .dataframe tbody tr th {\n        vertical-align: top;\n    }\n\n    .dataframe thead th {\n        text-align: right;\n    }\n</style>\n<table border=\"1\" class=\"dataframe\">\n  <thead>\n    <tr style=\"text-align: right;\">\n      <th></th>\n      <th>Warehouse Pincode</th>\n      <th>Customer Pincode</th>\n      <th>Zone</th>\n    </tr>\n  </thead>\n  <tbody>\n    <tr>\n      <th>0</th>\n      <td>121003</td>\n      <td>507101</td>\n      <td>d</td>\n    </tr>\n    <tr>\n      <th>1</th>\n      <td>121003</td>\n      <td>486886</td>\n      <td>d</td>\n    </tr>\n    <tr>\n      <th>2</th>\n      <td>121003</td>\n      <td>532484</td>\n      <td>d</td>\n    </tr>\n    <tr>\n      <th>3</th>\n      <td>121003</td>\n      <td>143001</td>\n      <td>b</td>\n    </tr>\n    <tr>\n      <th>4</th>\n      <td>121003</td>\n      <td>515591</td>\n      <td>d</td>\n    </tr>\n  </tbody>\n</table>\n</div>"
     },
     "execution_count": 237,
     "metadata": {},
     "output_type": "execute_result"
    }
   ],
   "source": [
    "c.head()            #prints first 5 records of the dataset"
   ],
   "metadata": {
    "collapsed": false,
    "ExecuteTime": {
     "end_time": "2023-08-27T11:52:48.705377600Z",
     "start_time": "2023-08-27T11:52:48.674940800Z"
    }
   },
   "id": "9b68c9c33dca2cfe"
  },
  {
   "cell_type": "code",
   "execution_count": 238,
   "outputs": [
    {
     "data": {
      "text/plain": "Warehouse Pincode     int64\nCustomer Pincode      int64\nZone                 object\ndtype: object"
     },
     "execution_count": 238,
     "metadata": {},
     "output_type": "execute_result"
    }
   ],
   "source": [
    "c.dtypes                #this shows the data type of columns present in Pincode zone"
   ],
   "metadata": {
    "collapsed": false,
    "ExecuteTime": {
     "end_time": "2023-08-27T11:52:49.440474900Z",
     "start_time": "2023-08-27T11:52:49.415003500Z"
    }
   },
   "id": "f49b84acdf3d14be"
  },
  {
   "cell_type": "code",
   "execution_count": 239,
   "outputs": [
    {
     "data": {
      "text/plain": "       Warehouse Pincode  Customer Pincode\ncount              124.0        124.000000\nmean            121003.0     365488.072581\nstd                  0.0     152156.322130\nmin             121003.0     140301.000000\n25%             121003.0     302017.000000\n50%             121003.0     321304.500000\n75%             121003.0     405102.250000\nmax             121003.0     845438.000000",
      "text/html": "<div>\n<style scoped>\n    .dataframe tbody tr th:only-of-type {\n        vertical-align: middle;\n    }\n\n    .dataframe tbody tr th {\n        vertical-align: top;\n    }\n\n    .dataframe thead th {\n        text-align: right;\n    }\n</style>\n<table border=\"1\" class=\"dataframe\">\n  <thead>\n    <tr style=\"text-align: right;\">\n      <th></th>\n      <th>Warehouse Pincode</th>\n      <th>Customer Pincode</th>\n    </tr>\n  </thead>\n  <tbody>\n    <tr>\n      <th>count</th>\n      <td>124.0</td>\n      <td>124.000000</td>\n    </tr>\n    <tr>\n      <th>mean</th>\n      <td>121003.0</td>\n      <td>365488.072581</td>\n    </tr>\n    <tr>\n      <th>std</th>\n      <td>0.0</td>\n      <td>152156.322130</td>\n    </tr>\n    <tr>\n      <th>min</th>\n      <td>121003.0</td>\n      <td>140301.000000</td>\n    </tr>\n    <tr>\n      <th>25%</th>\n      <td>121003.0</td>\n      <td>302017.000000</td>\n    </tr>\n    <tr>\n      <th>50%</th>\n      <td>121003.0</td>\n      <td>321304.500000</td>\n    </tr>\n    <tr>\n      <th>75%</th>\n      <td>121003.0</td>\n      <td>405102.250000</td>\n    </tr>\n    <tr>\n      <th>max</th>\n      <td>121003.0</td>\n      <td>845438.000000</td>\n    </tr>\n  </tbody>\n</table>\n</div>"
     },
     "execution_count": 239,
     "metadata": {},
     "output_type": "execute_result"
    }
   ],
   "source": [
    "c.describe()        #this shows the range average of the dataset"
   ],
   "metadata": {
    "collapsed": false,
    "ExecuteTime": {
     "end_time": "2023-08-27T11:52:50.087205900Z",
     "start_time": "2023-08-27T11:52:50.025324400Z"
    }
   },
   "id": "42f5c18d68512073"
  },
  {
   "cell_type": "code",
   "execution_count": 240,
   "outputs": [
    {
     "data": {
      "text/plain": "<bound method DataFrame.info of      Warehouse Pincode  Customer Pincode Zone\n0               121003            507101    d\n1               121003            486886    d\n2               121003            532484    d\n3               121003            143001    b\n4               121003            515591    d\n..                 ...               ...  ...\n119             121003            325207    b\n120             121003            303702    b\n121             121003            313301    b\n122             121003            173212    e\n123             121003            302020    b\n\n[124 rows x 3 columns]>"
     },
     "execution_count": 240,
     "metadata": {},
     "output_type": "execute_result"
    }
   ],
   "source": [
    "c.info"
   ],
   "metadata": {
    "collapsed": false,
    "ExecuteTime": {
     "end_time": "2023-08-27T11:52:50.760068500Z",
     "start_time": "2023-08-27T11:52:50.701102100Z"
    }
   },
   "id": "b335edcad0b49397"
  },
  {
   "cell_type": "code",
   "execution_count": 241,
   "outputs": [],
   "source": [
    "d= c.groupby(['Warehouse Pincode', 'Customer Pincode']).count().sort_values('Zone', ascending=False).reset_index()"
   ],
   "metadata": {
    "collapsed": false,
    "ExecuteTime": {
     "end_time": "2023-08-27T11:52:51.473166500Z",
     "start_time": "2023-08-27T11:52:51.450407200Z"
    }
   },
   "id": "262da099bf92e9af"
  },
  {
   "cell_type": "code",
   "execution_count": 242,
   "outputs": [
    {
     "data": {
      "text/plain": "     Warehouse Pincode  Customer Pincode  Zone\n0               121003            302017     5\n1               121003            313001     4\n2               121003            140301     2\n3               121003            248001     2\n4               121003            302020     2\n..                 ...               ...   ...\n103             121003            311011     1\n104             121003            311001     1\n105             121003            307026     1\n106             121003            306302     1\n107             121003            845438     1\n\n[108 rows x 3 columns]",
      "text/html": "<div>\n<style scoped>\n    .dataframe tbody tr th:only-of-type {\n        vertical-align: middle;\n    }\n\n    .dataframe tbody tr th {\n        vertical-align: top;\n    }\n\n    .dataframe thead th {\n        text-align: right;\n    }\n</style>\n<table border=\"1\" class=\"dataframe\">\n  <thead>\n    <tr style=\"text-align: right;\">\n      <th></th>\n      <th>Warehouse Pincode</th>\n      <th>Customer Pincode</th>\n      <th>Zone</th>\n    </tr>\n  </thead>\n  <tbody>\n    <tr>\n      <th>0</th>\n      <td>121003</td>\n      <td>302017</td>\n      <td>5</td>\n    </tr>\n    <tr>\n      <th>1</th>\n      <td>121003</td>\n      <td>313001</td>\n      <td>4</td>\n    </tr>\n    <tr>\n      <th>2</th>\n      <td>121003</td>\n      <td>140301</td>\n      <td>2</td>\n    </tr>\n    <tr>\n      <th>3</th>\n      <td>121003</td>\n      <td>248001</td>\n      <td>2</td>\n    </tr>\n    <tr>\n      <th>4</th>\n      <td>121003</td>\n      <td>302020</td>\n      <td>2</td>\n    </tr>\n    <tr>\n      <th>...</th>\n      <td>...</td>\n      <td>...</td>\n      <td>...</td>\n    </tr>\n    <tr>\n      <th>103</th>\n      <td>121003</td>\n      <td>311011</td>\n      <td>1</td>\n    </tr>\n    <tr>\n      <th>104</th>\n      <td>121003</td>\n      <td>311001</td>\n      <td>1</td>\n    </tr>\n    <tr>\n      <th>105</th>\n      <td>121003</td>\n      <td>307026</td>\n      <td>1</td>\n    </tr>\n    <tr>\n      <th>106</th>\n      <td>121003</td>\n      <td>306302</td>\n      <td>1</td>\n    </tr>\n    <tr>\n      <th>107</th>\n      <td>121003</td>\n      <td>845438</td>\n      <td>1</td>\n    </tr>\n  </tbody>\n</table>\n<p>108 rows × 3 columns</p>\n</div>"
     },
     "execution_count": 242,
     "metadata": {},
     "output_type": "execute_result"
    }
   ],
   "source": [
    "d"
   ],
   "metadata": {
    "collapsed": false,
    "ExecuteTime": {
     "end_time": "2023-08-27T11:52:51.985426500Z",
     "start_time": "2023-08-27T11:52:51.925302900Z"
    }
   },
   "id": "fb23878ded41085b"
  },
  {
   "cell_type": "markdown",
   "source": [
    "### Plotting Graph for following Data"
   ],
   "metadata": {
    "collapsed": false
   },
   "id": "9154a3e73aa5751"
  },
  {
   "cell_type": "code",
   "execution_count": 243,
   "outputs": [
    {
     "data": {
      "text/plain": "<Figure size 1000x400 with 1 Axes>",
      "image/png": "[encoded data removed]"
     },
     "metadata": {},
     "output_type": "display_data"
    }
   ],
   "source": [
    "plt.gcf()\n",
    "sns.barplot(d, x='Warehouse Pincode', y ='Customer Pincode', hue='Zone')\n",
    "plt.xlabel('Warehouse Pincode')\n",
    "plt.ylabel('Customer Pincode')\n",
    "plt.xticks(rotation=90)\n",
    "plt.rcParams['figure.figsize'] = (5,10)\n",
    "plt.show()"
   ],
   "metadata": {
    "collapsed": false,
    "ExecuteTime": {
     "end_time": "2023-08-27T11:52:53.435364800Z",
     "start_time": "2023-08-27T11:52:53.255273300Z"
    }
   },
   "id": "9e324c5aa64f1cc"
  },
  {
   "cell_type": "markdown",
   "source": [
    "# Understanding SKU Master of Company X "
   ],
   "metadata": {
    "collapsed": false
   },
   "id": "6273917dc10ee7c7"
  },
  {
   "cell_type": "markdown",
   "source": [
    "### importing dataset"
   ],
   "metadata": {
    "collapsed": false
   },
   "id": "35fcbe679598c0a2"
  },
  {
   "cell_type": "code",
   "execution_count": 244,
   "outputs": [],
   "source": [
    "e = pd.read_excel('Data-20230825T133440Z-001/Data/Company X - SKU Master.xlsx')"
   ],
   "metadata": {
    "collapsed": false,
    "ExecuteTime": {
     "end_time": "2023-08-27T11:52:58.110234800Z",
     "start_time": "2023-08-27T11:52:58.090354300Z"
    }
   },
   "id": "3800ea2870ec712e"
  },
  {
   "cell_type": "markdown",
   "source": [
    "#### Understanding structure and type of data"
   ],
   "metadata": {
    "collapsed": false
   },
   "id": "ea37a211c7306b68"
  },
  {
   "cell_type": "code",
   "execution_count": 245,
   "outputs": [
    {
     "data": {
      "text/plain": "             SKU  Weight (g)\n0  8904223815682         210\n1  8904223815859         165\n2  8904223815866         113\n3  8904223815873          65\n4  8904223816214         120",
      "text/html": "<div>\n<style scoped>\n    .dataframe tbody tr th:only-of-type {\n        vertical-align: middle;\n    }\n\n    .dataframe tbody tr th {\n        vertical-align: top;\n    }\n\n    .dataframe thead th {\n        text-align: right;\n    }\n</style>\n<table border=\"1\" class=\"dataframe\">\n  <thead>\n    <tr style=\"text-align: right;\">\n      <th></th>\n      <th>SKU</th>\n      <th>Weight (g)</th>\n    </tr>\n  </thead>\n  <tbody>\n    <tr>\n      <th>0</th>\n      <td>8904223815682</td>\n      <td>210</td>\n    </tr>\n    <tr>\n      <th>1</th>\n      <td>8904223815859</td>\n      <td>165</td>\n    </tr>\n    <tr>\n      <th>2</th>\n      <td>8904223815866</td>\n      <td>113</td>\n    </tr>\n    <tr>\n      <th>3</th>\n      <td>8904223815873</td>\n      <td>65</td>\n    </tr>\n    <tr>\n      <th>4</th>\n      <td>8904223816214</td>\n      <td>120</td>\n    </tr>\n  </tbody>\n</table>\n</div>"
     },
     "execution_count": 245,
     "metadata": {},
     "output_type": "execute_result"
    }
   ],
   "source": [
    "e.head()    #prints first 5 record of Sku Master"
   ],
   "metadata": {
    "collapsed": false,
    "ExecuteTime": {
     "end_time": "2023-08-27T11:52:59.055467400Z",
     "start_time": "2023-08-27T11:52:59.045260600Z"
    }
   },
   "id": "af48f57ae7c8c808"
  },
  {
   "cell_type": "code",
   "execution_count": 246,
   "outputs": [
    {
     "data": {
      "text/plain": "SKU           object\nWeight (g)     int64\ndtype: object"
     },
     "execution_count": 246,
     "metadata": {},
     "output_type": "execute_result"
    }
   ],
   "source": [
    "e.dtypes     #shows datatype of every column"
   ],
   "metadata": {
    "collapsed": false,
    "ExecuteTime": {
     "end_time": "2023-08-27T11:52:59.912561900Z",
     "start_time": "2023-08-27T11:52:59.865060900Z"
    }
   },
   "id": "438ef85304c50a80"
  },
  {
   "cell_type": "code",
   "execution_count": 247,
   "outputs": [
    {
     "data": {
      "text/plain": "<bound method DataFrame.info of               SKU  Weight (g)\n0   8904223815682         210\n1   8904223815859         165\n2   8904223815866         113\n3   8904223815873          65\n4   8904223816214         120\n..            ...         ...\n61  8904223819505         210\n62  8904223819499         210\n63  8904223819512         210\n64  8904223819543         300\n65     SACHETS001          10\n\n[66 rows x 2 columns]>"
     },
     "execution_count": 247,
     "metadata": {},
     "output_type": "execute_result"
    }
   ],
   "source": [
    "e.info"
   ],
   "metadata": {
    "collapsed": false,
    "ExecuteTime": {
     "end_time": "2023-08-27T11:53:00.437672200Z",
     "start_time": "2023-08-27T11:53:00.380232700Z"
    }
   },
   "id": "52220e77119f3350"
  },
  {
   "cell_type": "markdown",
   "source": [
    "#### Sorting data and grouping"
   ],
   "metadata": {
    "collapsed": false
   },
   "id": "f7dfce2838c5a604"
  },
  {
   "cell_type": "code",
   "execution_count": 248,
   "outputs": [],
   "source": [
    "f = e.groupby('Weight (g)').count().sort_values('SKU', ascending=False).reset_index()\n"
   ],
   "metadata": {
    "collapsed": false,
    "ExecuteTime": {
     "end_time": "2023-08-27T11:53:01.795652100Z",
     "start_time": "2023-08-27T11:53:01.765141200Z"
    }
   },
   "id": "ba66fe03f0c1e2b3"
  },
  {
   "cell_type": "code",
   "execution_count": 249,
   "outputs": [
    {
     "data": {
      "text/plain": "    Weight (g)  SKU\n0          500    5\n1          350    5\n2          240    4\n3          120    4\n4          210    4\n5          165    4\n6           65    3\n7          290    3\n8          112    3\n9          115    3\n10         140    2\n11         137    2\n12         170    2\n13         150    2\n14         600    2\n15         113    2\n16         100    2\n17          30    1\n18         133    1\n19         160    1\n20         130    1\n21         127    1\n22         121    1\n23         232    1\n24         250    1\n25         110    1\n26         300    1\n27         102    1\n28         490    1\n29         552    1\n30          10    1",
      "text/html": "<div>\n<style scoped>\n    .dataframe tbody tr th:only-of-type {\n        vertical-align: middle;\n    }\n\n    .dataframe tbody tr th {\n        vertical-align: top;\n    }\n\n    .dataframe thead th {\n        text-align: right;\n    }\n</style>\n<table border=\"1\" class=\"dataframe\">\n  <thead>\n    <tr style=\"text-align: right;\">\n      <th></th>\n      <th>Weight (g)</th>\n      <th>SKU</th>\n    </tr>\n  </thead>\n  <tbody>\n    <tr>\n      <th>0</th>\n      <td>500</td>\n      <td>5</td>\n    </tr>\n    <tr>\n      <th>1</th>\n      <td>350</td>\n      <td>5</td>\n    </tr>\n    <tr>\n      <th>2</th>\n      <td>240</td>\n      <td>4</td>\n    </tr>\n    <tr>\n      <th>3</th>\n      <td>120</td>\n      <td>4</td>\n    </tr>\n    <tr>\n      <th>4</th>\n      <td>210</td>\n      <td>4</td>\n    </tr>\n    <tr>\n      <th>5</th>\n      <td>165</td>\n      <td>4</td>\n    </tr>\n    <tr>\n      <th>6</th>\n      <td>65</td>\n      <td>3</td>\n    </tr>\n    <tr>\n      <th>7</th>\n      <td>290</td>\n      <td>3</td>\n    </tr>\n    <tr>\n      <th>8</th>\n      <td>112</td>\n      <td>3</td>\n    </tr>\n    <tr>\n      <th>9</th>\n      <td>115</td>\n      <td>3</td>\n    </tr>\n    <tr>\n      <th>10</th>\n      <td>140</td>\n      <td>2</td>\n    </tr>\n    <tr>\n      <th>11</th>\n      <td>137</td>\n      <td>2</td>\n    </tr>\n    <tr>\n      <th>12</th>\n      <td>170</td>\n      <td>2</td>\n    </tr>\n    <tr>\n      <th>13</th>\n      <td>150</td>\n      <td>2</td>\n    </tr>\n    <tr>\n      <th>14</th>\n      <td>600</td>\n      <td>2</td>\n    </tr>\n    <tr>\n      <th>15</th>\n      <td>113</td>\n      <td>2</td>\n    </tr>\n    <tr>\n      <th>16</th>\n      <td>100</td>\n      <td>2</td>\n    </tr>\n    <tr>\n      <th>17</th>\n      <td>30</td>\n      <td>1</td>\n    </tr>\n    <tr>\n      <th>18</th>\n      <td>133</td>\n      <td>1</td>\n    </tr>\n    <tr>\n      <th>19</th>\n      <td>160</td>\n      <td>1</td>\n    </tr>\n    <tr>\n      <th>20</th>\n      <td>130</td>\n      <td>1</td>\n    </tr>\n    <tr>\n      <th>21</th>\n      <td>127</td>\n      <td>1</td>\n    </tr>\n    <tr>\n      <th>22</th>\n      <td>121</td>\n      <td>1</td>\n    </tr>\n    <tr>\n      <th>23</th>\n      <td>232</td>\n      <td>1</td>\n    </tr>\n    <tr>\n      <th>24</th>\n      <td>250</td>\n      <td>1</td>\n    </tr>\n    <tr>\n      <th>25</th>\n      <td>110</td>\n      <td>1</td>\n    </tr>\n    <tr>\n      <th>26</th>\n      <td>300</td>\n      <td>1</td>\n    </tr>\n    <tr>\n      <th>27</th>\n      <td>102</td>\n      <td>1</td>\n    </tr>\n    <tr>\n      <th>28</th>\n      <td>490</td>\n      <td>1</td>\n    </tr>\n    <tr>\n      <th>29</th>\n      <td>552</td>\n      <td>1</td>\n    </tr>\n    <tr>\n      <th>30</th>\n      <td>10</td>\n      <td>1</td>\n    </tr>\n  </tbody>\n</table>\n</div>"
     },
     "execution_count": 249,
     "metadata": {},
     "output_type": "execute_result"
    }
   ],
   "source": [
    "f"
   ],
   "metadata": {
    "collapsed": false,
    "ExecuteTime": {
     "end_time": "2023-08-27T11:53:02.565533400Z",
     "start_time": "2023-08-27T11:53:02.541239300Z"
    }
   },
   "id": "123e273fb4387bc4"
  },
  {
   "cell_type": "markdown",
   "source": [
    "#### Plotting Graph for the following Data"
   ],
   "metadata": {
    "collapsed": false
   },
   "id": "f71734f32f4d0f56"
  },
  {
   "cell_type": "code",
   "execution_count": 266,
   "outputs": [
    {
     "data": {
      "text/plain": "<Figure size 1000x500 with 1 Axes>",
      "image/png": "[encoded data removed]"
     },
     "metadata": {},
     "output_type": "display_data"
    }
   ],
   "source": [
    "plt.gcf()\n",
    "sns.barplot(data=f, x= 'SKU', y= 'Weight (g)')\n",
    "plt.xlabel('SKU', fontsize = 10)\n",
    "plt.ylabel('Weight in grams', fontsize=10)\n",
    "plt.rcParams['figure.figsize'] = (4,5)\n",
    "plt.show()"
   ],
   "metadata": {
    "collapsed": false,
    "ExecuteTime": {
     "end_time": "2023-08-27T11:53:52.591419500Z",
     "start_time": "2023-08-27T11:53:52.415308100Z"
    }
   },
   "id": "394a7ba991ddebae"
  },
  {
   "cell_type": "markdown",
   "source": [
    "# Understanding Invoice from Courier Company"
   ],
   "metadata": {
    "collapsed": false
   },
   "id": "cf27de0fdfdbce94"
  },
  {
   "cell_type": "markdown",
   "source": [
    "#### Importing data and undertanding the structure"
   ],
   "metadata": {
    "collapsed": false
   },
   "id": "cd4cd2e13d74f617"
  },
  {
   "cell_type": "code",
   "execution_count": 251,
   "outputs": [],
   "source": [
    "g = pd.read_excel(\"Data-20230825T133440Z-001/Data/Courier Company - Invoice.xlsx\")"
   ],
   "metadata": {
    "collapsed": false,
    "ExecuteTime": {
     "end_time": "2023-08-27T11:53:11.985180300Z",
     "start_time": "2023-08-27T11:53:11.936663400Z"
    }
   },
   "id": "3f53fcd30728c951"
  },
  {
   "cell_type": "markdown",
   "source": [
    "##### Importing dataset and understanding structure of data"
   ],
   "metadata": {
    "collapsed": false
   },
   "id": "a0fd0d78ee7b2f61"
  },
  {
   "cell_type": "code",
   "execution_count": 252,
   "outputs": [
    {
     "data": {
      "text/plain": "        AWB Code    Order ID  Charged Weight  Warehouse Pincode  \\\n0  1091117222124  2001806232            1.30             121003   \n1  1091117222194  2001806273            1.00             121003   \n2  1091117222931  2001806408            2.50             121003   \n3  1091117223244  2001806458            1.00             121003   \n4  1091117229345  2001807012            0.15             121003   \n\n   Customer Pincode Zone Type of Shipment  Billing Amount (Rs.)  \n0            507101    d  Forward charges                 135.0  \n1            486886    d  Forward charges                  90.2  \n2            532484    d  Forward charges                 224.6  \n3            143001    b  Forward charges                  61.3  \n4            515591    d  Forward charges                  45.4  ",
      "text/html": "<div>\n<style scoped>\n    .dataframe tbody tr th:only-of-type {\n        vertical-align: middle;\n    }\n\n    .dataframe tbody tr th {\n        vertical-align: top;\n    }\n\n    .dataframe thead th {\n        text-align: right;\n    }\n</style>\n<table border=\"1\" class=\"dataframe\">\n  <thead>\n    <tr style=\"text-align: right;\">\n      <th></th>\n      <th>AWB Code</th>\n      <th>Order ID</th>\n      <th>Charged Weight</th>\n      <th>Warehouse Pincode</th>\n      <th>Customer Pincode</th>\n      <th>Zone</th>\n      <th>Type of Shipment</th>\n      <th>Billing Amount (Rs.)</th>\n    </tr>\n  </thead>\n  <tbody>\n    <tr>\n      <th>0</th>\n      <td>1091117222124</td>\n      <td>2001806232</td>\n      <td>1.30</td>\n      <td>121003</td>\n      <td>507101</td>\n      <td>d</td>\n      <td>Forward charges</td>\n      <td>135.0</td>\n    </tr>\n    <tr>\n      <th>1</th>\n      <td>1091117222194</td>\n      <td>2001806273</td>\n      <td>1.00</td>\n      <td>121003</td>\n      <td>486886</td>\n      <td>d</td>\n      <td>Forward charges</td>\n      <td>90.2</td>\n    </tr>\n    <tr>\n      <th>2</th>\n      <td>1091117222931</td>\n      <td>2001806408</td>\n      <td>2.50</td>\n      <td>121003</td>\n      <td>532484</td>\n      <td>d</td>\n      <td>Forward charges</td>\n      <td>224.6</td>\n    </tr>\n    <tr>\n      <th>3</th>\n      <td>1091117223244</td>\n      <td>2001806458</td>\n      <td>1.00</td>\n      <td>121003</td>\n      <td>143001</td>\n      <td>b</td>\n      <td>Forward charges</td>\n      <td>61.3</td>\n    </tr>\n    <tr>\n      <th>4</th>\n      <td>1091117229345</td>\n      <td>2001807012</td>\n      <td>0.15</td>\n      <td>121003</td>\n      <td>515591</td>\n      <td>d</td>\n      <td>Forward charges</td>\n      <td>45.4</td>\n    </tr>\n  </tbody>\n</table>\n</div>"
     },
     "execution_count": 252,
     "metadata": {},
     "output_type": "execute_result"
    }
   ],
   "source": [
    "g.head()    #prints first 5 records of the dataset"
   ],
   "metadata": {
    "collapsed": false,
    "ExecuteTime": {
     "end_time": "2023-08-27T11:53:13.045756300Z",
     "start_time": "2023-08-27T11:53:13.024985100Z"
    }
   },
   "id": "a94c8573228a92ce"
  },
  {
   "cell_type": "code",
   "execution_count": 253,
   "outputs": [
    {
     "data": {
      "text/plain": "          AWB Code    Order ID  Charged Weight  Warehouse Pincode  \\\n0    1091117222124  2001806232            1.30             121003   \n1    1091117222194  2001806273            1.00             121003   \n2    1091117222931  2001806408            2.50             121003   \n3    1091117223244  2001806458            1.00             121003   \n4    1091117229345  2001807012            0.15             121003   \n..             ...         ...             ...                ...   \n119  1091118551656  2001812941            0.73             121003   \n120  1091117614452  2001809383            0.50             121003   \n121  1091120922803  2001820978            0.50             121003   \n122  1091121844806  2001811475            0.50             121003   \n123  1091121846136  2001811305            0.50             121003   \n\n     Customer Pincode Zone         Type of Shipment  Billing Amount (Rs.)  \n0              507101    d          Forward charges                 135.0  \n1              486886    d          Forward charges                  90.2  \n2              532484    d          Forward charges                 224.6  \n3              143001    b          Forward charges                  61.3  \n4              515591    d          Forward charges                  45.4  \n..                ...  ...                      ...                   ...  \n119            325207    d          Forward charges                  90.2  \n120            303702    d  Forward and RTO charges                  86.7  \n121            313301    d          Forward charges                  45.4  \n122            173212    b          Forward charges                  33.0  \n123            302020    d          Forward charges                  45.4  \n\n[124 rows x 8 columns]",
      "text/html": "<div>\n<style scoped>\n    .dataframe tbody tr th:only-of-type {\n        vertical-align: middle;\n    }\n\n    .dataframe tbody tr th {\n        vertical-align: top;\n    }\n\n    .dataframe thead th {\n        text-align: right;\n    }\n</style>\n<table border=\"1\" class=\"dataframe\">\n  <thead>\n    <tr style=\"text-align: right;\">\n      <th></th>\n      <th>AWB Code</th>\n      <th>Order ID</th>\n      <th>Charged Weight</th>\n      <th>Warehouse Pincode</th>\n      <th>Customer Pincode</th>\n      <th>Zone</th>\n      <th>Type of Shipment</th>\n      <th>Billing Amount (Rs.)</th>\n    </tr>\n  </thead>\n  <tbody>\n    <tr>\n      <th>0</th>\n      <td>1091117222124</td>\n      <td>2001806232</td>\n      <td>1.30</td>\n      <td>121003</td>\n      <td>507101</td>\n      <td>d</td>\n      <td>Forward charges</td>\n      <td>135.0</td>\n    </tr>\n    <tr>\n      <th>1</th>\n      <td>1091117222194</td>\n      <td>2001806273</td>\n      <td>1.00</td>\n      <td>121003</td>\n      <td>486886</td>\n      <td>d</td>\n      <td>Forward charges</td>\n      <td>90.2</td>\n    </tr>\n    <tr>\n      <th>2</th>\n      <td>1091117222931</td>\n      <td>2001806408</td>\n      <td>2.50</td>\n      <td>121003</td>\n      <td>532484</td>\n      <td>d</td>\n      <td>Forward charges</td>\n      <td>224.6</td>\n    </tr>\n    <tr>\n      <th>3</th>\n      <td>1091117223244</td>\n      <td>2001806458</td>\n      <td>1.00</td>\n      <td>121003</td>\n      <td>143001</td>\n      <td>b</td>\n      <td>Forward charges</td>\n      <td>61.3</td>\n    </tr>\n    <tr>\n      <th>4</th>\n      <td>1091117229345</td>\n      <td>2001807012</td>\n      <td>0.15</td>\n      <td>121003</td>\n      <td>515591</td>\n      <td>d</td>\n      <td>Forward charges</td>\n      <td>45.4</td>\n    </tr>\n    <tr>\n      <th>...</th>\n      <td>...</td>\n      <td>...</td>\n      <td>...</td>\n      <td>...</td>\n      <td>...</td>\n      <td>...</td>\n      <td>...</td>\n      <td>...</td>\n    </tr>\n    <tr>\n      <th>119</th>\n      <td>1091118551656</td>\n      <td>2001812941</td>\n      <td>0.73</td>\n      <td>121003</td>\n      <td>325207</td>\n      <td>d</td>\n      <td>Forward charges</td>\n      <td>90.2</td>\n    </tr>\n    <tr>\n      <th>120</th>\n      <td>1091117614452</td>\n      <td>2001809383</td>\n      <td>0.50</td>\n      <td>121003</td>\n      <td>303702</td>\n      <td>d</td>\n      <td>Forward and RTO charges</td>\n      <td>86.7</td>\n    </tr>\n    <tr>\n      <th>121</th>\n      <td>1091120922803</td>\n      <td>2001820978</td>\n      <td>0.50</td>\n      <td>121003</td>\n      <td>313301</td>\n      <td>d</td>\n      <td>Forward charges</td>\n      <td>45.4</td>\n    </tr>\n    <tr>\n      <th>122</th>\n      <td>1091121844806</td>\n      <td>2001811475</td>\n      <td>0.50</td>\n      <td>121003</td>\n      <td>173212</td>\n      <td>b</td>\n      <td>Forward charges</td>\n      <td>33.0</td>\n    </tr>\n    <tr>\n      <th>123</th>\n      <td>1091121846136</td>\n      <td>2001811305</td>\n      <td>0.50</td>\n      <td>121003</td>\n      <td>302020</td>\n      <td>d</td>\n      <td>Forward charges</td>\n      <td>45.4</td>\n    </tr>\n  </tbody>\n</table>\n<p>124 rows × 8 columns</p>\n</div>"
     },
     "execution_count": 253,
     "metadata": {},
     "output_type": "execute_result"
    }
   ],
   "source": [
    "g"
   ],
   "metadata": {
    "collapsed": false,
    "ExecuteTime": {
     "end_time": "2023-08-27T11:53:13.835671900Z",
     "start_time": "2023-08-27T11:53:13.795325200Z"
    }
   },
   "id": "4e3fee854176da67"
  },
  {
   "cell_type": "code",
   "execution_count": 254,
   "outputs": [
    {
     "data": {
      "text/plain": "array([507101, 486886, 532484, 143001, 515591, 326502, 208019, 140301,\n       396001, 711106, 284001, 441601, 248006, 485001, 845438, 463106,\n       495671, 673002, 208002, 416010, 226010, 400705, 262405, 394210,\n       411014, 783301, 486661, 244001, 492001, 517128, 562110, 831006,\n       140604, 723146, 421204, 263139, 743263, 392150, 382830, 711303,\n       283102, 370201, 248001, 144001, 403401, 452001, 721636, 831002,\n       226004, 410206, 516503, 742103, 452018, 208001, 244713, 580007,\n       360005, 313027, 341001, 332715, 302031, 335001, 334004, 321001,\n       324001, 321608, 302002, 311011, 306302, 313001, 322255, 302017,\n       335512, 307026, 327025, 313333, 342008, 314401, 342301, 313003,\n       173212, 174101, 173213, 322201, 314001, 331022, 305801, 335502,\n       306116, 311001, 302019, 302039, 335803, 175101, 303903, 342012,\n       334001, 302012, 342014, 324005, 302001, 302004, 302018, 324008,\n       302020, 325207, 303702, 313301], dtype=int64)"
     },
     "execution_count": 254,
     "metadata": {},
     "output_type": "execute_result"
    }
   ],
   "source": [
    "g['Customer Pincode'].unique()"
   ],
   "metadata": {
    "collapsed": false,
    "ExecuteTime": {
     "end_time": "2023-08-27T11:53:14.620290400Z",
     "start_time": "2023-08-27T11:53:14.570039300Z"
    }
   },
   "id": "d27c64e17a91f8b2"
  },
  {
   "cell_type": "code",
   "execution_count": 255,
   "outputs": [
    {
     "data": {
      "text/plain": "array([1.3 , 1.  , 2.5 , 0.15, 1.15, 0.5 , 0.79, 0.72, 1.08, 1.28, 0.2 ,\n       0.86, 1.2 , 0.7 , 0.6 , 0.99, 0.8 , 1.6 , 1.13, 2.92, 0.68, 0.71,\n       0.78, 1.27, 0.69, 1.16, 2.86, 1.35, 1.64, 0.67, 2.  , 1.5 , 3.  ,\n       1.7 , 0.77, 0.76, 0.59, 2.94, 0.61, 2.1 , 1.1 , 0.3 , 1.02, 2.28,\n       0.74, 4.13, 0.73, 1.04, 1.63, 2.47, 0.82, 0.66, 1.86, 2.27])"
     },
     "execution_count": 255,
     "metadata": {},
     "output_type": "execute_result"
    }
   ],
   "source": [
    "g['Charged Weight'].unique()"
   ],
   "metadata": {
    "collapsed": false,
    "ExecuteTime": {
     "end_time": "2023-08-27T11:53:15.290922900Z",
     "start_time": "2023-08-27T11:53:15.259279400Z"
    }
   },
   "id": "2ee804d497b7b9ec"
  },
  {
   "cell_type": "code",
   "execution_count": 256,
   "outputs": [
    {
     "data": {
      "text/plain": "Index(['AWB Code', 'Order ID', 'Charged Weight', 'Warehouse Pincode',\n       'Customer Pincode', 'Zone', 'Type of Shipment', 'Billing Amount (Rs.)'],\n      dtype='object')"
     },
     "execution_count": 256,
     "metadata": {},
     "output_type": "execute_result"
    }
   ],
   "source": [
    "g.columns           #shows the names of all columns"
   ],
   "metadata": {
    "collapsed": false,
    "ExecuteTime": {
     "end_time": "2023-08-27T11:53:15.956368200Z",
     "start_time": "2023-08-27T11:53:15.930012Z"
    }
   },
   "id": "938976c7cb6cfc93"
  },
  {
   "cell_type": "code",
   "execution_count": 257,
   "outputs": [
    {
     "data": {
      "text/plain": "           AWB Code      Order ID  Charged Weight  Warehouse Pincode  \\\ncount  1.240000e+02  1.240000e+02      124.000000              124.0   \nmean   1.091118e+12  2.001811e+09        0.956048           121003.0   \nstd    1.473661e+06  5.167329e+03        0.662815                0.0   \nmin    1.091117e+12  2.001806e+09        0.150000           121003.0   \n25%    1.091117e+12  2.001807e+09        0.667500           121003.0   \n50%    1.091117e+12  2.001809e+09        0.725000           121003.0   \n75%    1.091119e+12  2.001812e+09        1.100000           121003.0   \nmax    1.091122e+12  2.001827e+09        4.130000           121003.0   \n\n       Customer Pincode  Billing Amount (Rs.)  \ncount        124.000000            124.000000  \nmean      365488.072581            110.066129  \nstd       152156.322130             64.060832  \nmin       140301.000000             33.000000  \n25%       302017.000000             86.700000  \n50%       321304.500000             90.200000  \n75%       405102.250000            135.000000  \nmax       845438.000000            403.800000  ",
      "text/html": "<div>\n<style scoped>\n    .dataframe tbody tr th:only-of-type {\n        vertical-align: middle;\n    }\n\n    .dataframe tbody tr th {\n        vertical-align: top;\n    }\n\n    .dataframe thead th {\n        text-align: right;\n    }\n</style>\n<table border=\"1\" class=\"dataframe\">\n  <thead>\n    <tr style=\"text-align: right;\">\n      <th></th>\n      <th>AWB Code</th>\n      <th>Order ID</th>\n      <th>Charged Weight</th>\n      <th>Warehouse Pincode</th>\n      <th>Customer Pincode</th>\n      <th>Billing Amount (Rs.)</th>\n    </tr>\n  </thead>\n  <tbody>\n    <tr>\n      <th>count</th>\n      <td>1.240000e+02</td>\n      <td>1.240000e+02</td>\n      <td>124.000000</td>\n      <td>124.0</td>\n      <td>124.000000</td>\n      <td>124.000000</td>\n    </tr>\n    <tr>\n      <th>mean</th>\n      <td>1.091118e+12</td>\n      <td>2.001811e+09</td>\n      <td>0.956048</td>\n      <td>121003.0</td>\n      <td>365488.072581</td>\n      <td>110.066129</td>\n    </tr>\n    <tr>\n      <th>std</th>\n      <td>1.473661e+06</td>\n      <td>5.167329e+03</td>\n      <td>0.662815</td>\n      <td>0.0</td>\n      <td>152156.322130</td>\n      <td>64.060832</td>\n    </tr>\n    <tr>\n      <th>min</th>\n      <td>1.091117e+12</td>\n      <td>2.001806e+09</td>\n      <td>0.150000</td>\n      <td>121003.0</td>\n      <td>140301.000000</td>\n      <td>33.000000</td>\n    </tr>\n    <tr>\n      <th>25%</th>\n      <td>1.091117e+12</td>\n      <td>2.001807e+09</td>\n      <td>0.667500</td>\n      <td>121003.0</td>\n      <td>302017.000000</td>\n      <td>86.700000</td>\n    </tr>\n    <tr>\n      <th>50%</th>\n      <td>1.091117e+12</td>\n      <td>2.001809e+09</td>\n      <td>0.725000</td>\n      <td>121003.0</td>\n      <td>321304.500000</td>\n      <td>90.200000</td>\n    </tr>\n    <tr>\n      <th>75%</th>\n      <td>1.091119e+12</td>\n      <td>2.001812e+09</td>\n      <td>1.100000</td>\n      <td>121003.0</td>\n      <td>405102.250000</td>\n      <td>135.000000</td>\n    </tr>\n    <tr>\n      <th>max</th>\n      <td>1.091122e+12</td>\n      <td>2.001827e+09</td>\n      <td>4.130000</td>\n      <td>121003.0</td>\n      <td>845438.000000</td>\n      <td>403.800000</td>\n    </tr>\n  </tbody>\n</table>\n</div>"
     },
     "execution_count": 257,
     "metadata": {},
     "output_type": "execute_result"
    }
   ],
   "source": [
    "g.describe()        #shows data distribution average class"
   ],
   "metadata": {
    "collapsed": false,
    "ExecuteTime": {
     "end_time": "2023-08-27T11:53:16.535049500Z",
     "start_time": "2023-08-27T11:53:16.490099600Z"
    }
   },
   "id": "cdbfb66186b6bc3b"
  },
  {
   "cell_type": "code",
   "execution_count": 258,
   "outputs": [
    {
     "data": {
      "text/plain": "<bound method DataFrame.info of           AWB Code    Order ID  Charged Weight  Warehouse Pincode  \\\n0    1091117222124  2001806232            1.30             121003   \n1    1091117222194  2001806273            1.00             121003   \n2    1091117222931  2001806408            2.50             121003   \n3    1091117223244  2001806458            1.00             121003   \n4    1091117229345  2001807012            0.15             121003   \n..             ...         ...             ...                ...   \n119  1091118551656  2001812941            0.73             121003   \n120  1091117614452  2001809383            0.50             121003   \n121  1091120922803  2001820978            0.50             121003   \n122  1091121844806  2001811475            0.50             121003   \n123  1091121846136  2001811305            0.50             121003   \n\n     Customer Pincode Zone         Type of Shipment  Billing Amount (Rs.)  \n0              507101    d          Forward charges                 135.0  \n1              486886    d          Forward charges                  90.2  \n2              532484    d          Forward charges                 224.6  \n3              143001    b          Forward charges                  61.3  \n4              515591    d          Forward charges                  45.4  \n..                ...  ...                      ...                   ...  \n119            325207    d          Forward charges                  90.2  \n120            303702    d  Forward and RTO charges                  86.7  \n121            313301    d          Forward charges                  45.4  \n122            173212    b          Forward charges                  33.0  \n123            302020    d          Forward charges                  45.4  \n\n[124 rows x 8 columns]>"
     },
     "execution_count": 258,
     "metadata": {},
     "output_type": "execute_result"
    }
   ],
   "source": [
    "g.info"
   ],
   "metadata": {
    "collapsed": false,
    "ExecuteTime": {
     "end_time": "2023-08-27T11:53:17.425093400Z",
     "start_time": "2023-08-27T11:53:17.405091900Z"
    }
   },
   "id": "1a75bac40dac91b0"
  },
  {
   "cell_type": "code",
   "execution_count": 259,
   "outputs": [
    {
     "data": {
      "text/plain": "AWB Code                  int64\nOrder ID                  int64\nCharged Weight          float64\nWarehouse Pincode         int64\nCustomer Pincode          int64\nZone                     object\nType of Shipment         object\nBilling Amount (Rs.)    float64\ndtype: object"
     },
     "execution_count": 259,
     "metadata": {},
     "output_type": "execute_result"
    }
   ],
   "source": [
    "g.dtypes"
   ],
   "metadata": {
    "collapsed": false,
    "ExecuteTime": {
     "end_time": "2023-08-27T11:53:17.985337100Z",
     "start_time": "2023-08-27T11:53:17.945602100Z"
    }
   },
   "id": "227e57fd0abc7a6a"
  },
  {
   "cell_type": "markdown",
   "source": [
    "##### Plotting Graph for following data"
   ],
   "metadata": {
    "collapsed": false
   },
   "id": "e10a01fb7ac60071"
  },
  {
   "cell_type": "code",
   "execution_count": 261,
   "outputs": [
    {
     "data": {
      "text/plain": "<Figure size 1000x500 with 1 Axes>",
      "image/png": "[encoded data removed]"
     },
     "metadata": {},
     "output_type": "display_data"
    }
   ],
   "source": [
    "plt.gcf()\n",
    "sns.barplot(g, x= 'Charged Weight', y='Billing Amount (Rs.)', hue=\"Zone\", width=1)\n",
    "plt.xlabel(\"Order Id\", fontsize=20)\n",
    "plt.ylabel(\"Billing Amount in INR\", fontsize=20)\n",
    "plt.xticks(rotation=90)\n",
    "plt.rcParams['figure.figsize'] = (10,5)\n",
    "plt.rcParams['font.size'] = 9\n",
    "plt.show()"
   ],
   "metadata": {
    "collapsed": false,
    "ExecuteTime": {
     "end_time": "2023-08-27T11:53:26.748213800Z",
     "start_time": "2023-08-27T11:53:25.165259Z"
    }
   },
   "id": "238a9831163ca801"
  },
  {
   "cell_type": "markdown",
   "source": [
    "# Understanding Rates of Courier Company"
   ],
   "metadata": {
    "collapsed": false
   },
   "id": "b6f4731e1470d2c5"
  },
  {
   "cell_type": "markdown",
   "source": [
    "##### Importing and Understanding structure of DataSet"
   ],
   "metadata": {
    "collapsed": false
   },
   "id": "d3a756bcbafa3e0"
  },
  {
   "cell_type": "code",
   "execution_count": 262,
   "outputs": [],
   "source": [
    "h = pd.read_excel('Data-20230825T133440Z-001/Data/Courier Company - Rates.xlsx')"
   ],
   "metadata": {
    "collapsed": false,
    "ExecuteTime": {
     "end_time": "2023-08-27T11:53:32.960381100Z",
     "start_time": "2023-08-27T11:53:32.940100800Z"
    }
   },
   "id": "6d111fea283b7d79"
  },
  {
   "cell_type": "markdown",
   "source": [
    "#### understanding data "
   ],
   "metadata": {
    "collapsed": false
   },
   "id": "b4130ba46aabb552"
  },
  {
   "cell_type": "code",
   "execution_count": 263,
   "outputs": [
    {
     "data": {
      "text/plain": "   fwd_a_fixed  fwd_a_additional  fwd_b_fixed  fwd_b_additional  fwd_c_fixed  \\\n0         29.5              23.6           33              28.3         40.1   \n\n   fwd_c_additional  fwd_d_fixed  fwd_d_additional  fwd_e_fixed  \\\n0              38.9         45.4              44.8         56.6   \n\n   fwd_e_additional  rto_a_fixed  rto_a_additional  rto_b_fixed  \\\n0              55.5         13.6              23.6         20.5   \n\n   rto_b_additional  rto_c_fixed  rto_c_additional  rto_d_fixed  \\\n0              28.3         31.9              38.9         41.3   \n\n   rto_d_additional  rto_e_fixed  rto_e_additional  \n0              44.8         50.7              55.5  ",
      "text/html": "<div>\n<style scoped>\n    .dataframe tbody tr th:only-of-type {\n        vertical-align: middle;\n    }\n\n    .dataframe tbody tr th {\n        vertical-align: top;\n    }\n\n    .dataframe thead th {\n        text-align: right;\n    }\n</style>\n<table border=\"1\" class=\"dataframe\">\n  <thead>\n    <tr style=\"text-align: right;\">\n      <th></th>\n      <th>fwd_a_fixed</th>\n      <th>fwd_a_additional</th>\n      <th>fwd_b_fixed</th>\n      <th>fwd_b_additional</th>\n      <th>fwd_c_fixed</th>\n      <th>fwd_c_additional</th>\n      <th>fwd_d_fixed</th>\n      <th>fwd_d_additional</th>\n      <th>fwd_e_fixed</th>\n      <th>fwd_e_additional</th>\n      <th>rto_a_fixed</th>\n      <th>rto_a_additional</th>\n      <th>rto_b_fixed</th>\n      <th>rto_b_additional</th>\n      <th>rto_c_fixed</th>\n      <th>rto_c_additional</th>\n      <th>rto_d_fixed</th>\n      <th>rto_d_additional</th>\n      <th>rto_e_fixed</th>\n      <th>rto_e_additional</th>\n    </tr>\n  </thead>\n  <tbody>\n    <tr>\n      <th>0</th>\n      <td>29.5</td>\n      <td>23.6</td>\n      <td>33</td>\n      <td>28.3</td>\n      <td>40.1</td>\n      <td>38.9</td>\n      <td>45.4</td>\n      <td>44.8</td>\n      <td>56.6</td>\n      <td>55.5</td>\n      <td>13.6</td>\n      <td>23.6</td>\n      <td>20.5</td>\n      <td>28.3</td>\n      <td>31.9</td>\n      <td>38.9</td>\n      <td>41.3</td>\n      <td>44.8</td>\n      <td>50.7</td>\n      <td>55.5</td>\n    </tr>\n  </tbody>\n</table>\n</div>"
     },
     "execution_count": 263,
     "metadata": {},
     "output_type": "execute_result"
    }
   ],
   "source": [
    "h.head()"
   ],
   "metadata": {
    "collapsed": false,
    "ExecuteTime": {
     "end_time": "2023-08-27T11:53:34.418360100Z",
     "start_time": "2023-08-27T11:53:34.390349700Z"
    }
   },
   "id": "5d388ba7ebedde93"
  },
  {
   "cell_type": "code",
   "execution_count": 264,
   "outputs": [
    {
     "data": {
      "text/plain": "<bound method DataFrame.info of    fwd_a_fixed  fwd_a_additional  fwd_b_fixed  fwd_b_additional  fwd_c_fixed  \\\n0         29.5              23.6           33              28.3         40.1   \n\n   fwd_c_additional  fwd_d_fixed  fwd_d_additional  fwd_e_fixed  \\\n0              38.9         45.4              44.8         56.6   \n\n   fwd_e_additional  rto_a_fixed  rto_a_additional  rto_b_fixed  \\\n0              55.5         13.6              23.6         20.5   \n\n   rto_b_additional  rto_c_fixed  rto_c_additional  rto_d_fixed  \\\n0              28.3         31.9              38.9         41.3   \n\n   rto_d_additional  rto_e_fixed  rto_e_additional  \n0              44.8         50.7              55.5  >"
     },
     "execution_count": 264,
     "metadata": {},
     "output_type": "execute_result"
    }
   ],
   "source": [
    "h.info"
   ],
   "metadata": {
    "collapsed": false,
    "ExecuteTime": {
     "end_time": "2023-08-27T11:53:35.415424200Z",
     "start_time": "2023-08-27T11:53:35.390013900Z"
    }
   },
   "id": "e23a84b51aa0cb6a"
  },
  {
   "cell_type": "code",
   "execution_count": 265,
   "outputs": [
    {
     "data": {
      "text/plain": "       fwd_a_fixed  fwd_a_additional  fwd_b_fixed  fwd_b_additional  \\\ncount          1.0               1.0          1.0               1.0   \nmean          29.5              23.6         33.0              28.3   \nstd            NaN               NaN          NaN               NaN   \nmin           29.5              23.6         33.0              28.3   \n25%           29.5              23.6         33.0              28.3   \n50%           29.5              23.6         33.0              28.3   \n75%           29.5              23.6         33.0              28.3   \nmax           29.5              23.6         33.0              28.3   \n\n       fwd_c_fixed  fwd_c_additional  fwd_d_fixed  fwd_d_additional  \\\ncount          1.0               1.0          1.0               1.0   \nmean          40.1              38.9         45.4              44.8   \nstd            NaN               NaN          NaN               NaN   \nmin           40.1              38.9         45.4              44.8   \n25%           40.1              38.9         45.4              44.8   \n50%           40.1              38.9         45.4              44.8   \n75%           40.1              38.9         45.4              44.8   \nmax           40.1              38.9         45.4              44.8   \n\n       fwd_e_fixed  fwd_e_additional  rto_a_fixed  rto_a_additional  \\\ncount          1.0               1.0          1.0               1.0   \nmean          56.6              55.5         13.6              23.6   \nstd            NaN               NaN          NaN               NaN   \nmin           56.6              55.5         13.6              23.6   \n25%           56.6              55.5         13.6              23.6   \n50%           56.6              55.5         13.6              23.6   \n75%           56.6              55.5         13.6              23.6   \nmax           56.6              55.5         13.6              23.6   \n\n       rto_b_fixed  rto_b_additional  rto_c_fixed  rto_c_additional  \\\ncount          1.0               1.0          1.0               1.0   \nmean          20.5              28.3         31.9              38.9   \nstd            NaN               NaN          NaN               NaN   \nmin           20.5              28.3         31.9              38.9   \n25%           20.5              28.3         31.9              38.9   \n50%           20.5              28.3         31.9              38.9   \n75%           20.5              28.3         31.9              38.9   \nmax           20.5              28.3         31.9              38.9   \n\n       rto_d_fixed  rto_d_additional  rto_e_fixed  rto_e_additional  \ncount          1.0               1.0          1.0               1.0  \nmean          41.3              44.8         50.7              55.5  \nstd            NaN               NaN          NaN               NaN  \nmin           41.3              44.8         50.7              55.5  \n25%           41.3              44.8         50.7              55.5  \n50%           41.3              44.8         50.7              55.5  \n75%           41.3              44.8         50.7              55.5  \nmax           41.3              44.8         50.7              55.5  ",
      "text/html": "<div>\n<style scoped>\n    .dataframe tbody tr th:only-of-type {\n        vertical-align: middle;\n    }\n\n    .dataframe tbody tr th {\n        vertical-align: top;\n    }\n\n    .dataframe thead th {\n        text-align: right;\n    }\n</style>\n<table border=\"1\" class=\"dataframe\">\n  <thead>\n    <tr style=\"text-align: right;\">\n      <th></th>\n      <th>fwd_a_fixed</th>\n      <th>fwd_a_additional</th>\n      <th>fwd_b_fixed</th>\n      <th>fwd_b_additional</th>\n      <th>fwd_c_fixed</th>\n      <th>fwd_c_additional</th>\n      <th>fwd_d_fixed</th>\n      <th>fwd_d_additional</th>\n      <th>fwd_e_fixed</th>\n      <th>fwd_e_additional</th>\n      <th>rto_a_fixed</th>\n      <th>rto_a_additional</th>\n      <th>rto_b_fixed</th>\n      <th>rto_b_additional</th>\n      <th>rto_c_fixed</th>\n      <th>rto_c_additional</th>\n      <th>rto_d_fixed</th>\n      <th>rto_d_additional</th>\n      <th>rto_e_fixed</th>\n      <th>rto_e_additional</th>\n    </tr>\n  </thead>\n  <tbody>\n    <tr>\n      <th>count</th>\n      <td>1.0</td>\n      <td>1.0</td>\n      <td>1.0</td>\n      <td>1.0</td>\n      <td>1.0</td>\n      <td>1.0</td>\n      <td>1.0</td>\n      <td>1.0</td>\n      <td>1.0</td>\n      <td>1.0</td>\n      <td>1.0</td>\n      <td>1.0</td>\n      <td>1.0</td>\n      <td>1.0</td>\n      <td>1.0</td>\n      <td>1.0</td>\n      <td>1.0</td>\n      <td>1.0</td>\n      <td>1.0</td>\n      <td>1.0</td>\n    </tr>\n    <tr>\n      <th>mean</th>\n      <td>29.5</td>\n      <td>23.6</td>\n      <td>33.0</td>\n      <td>28.3</td>\n      <td>40.1</td>\n      <td>38.9</td>\n      <td>45.4</td>\n      <td>44.8</td>\n      <td>56.6</td>\n      <td>55.5</td>\n      <td>13.6</td>\n      <td>23.6</td>\n      <td>20.5</td>\n      <td>28.3</td>\n      <td>31.9</td>\n      <td>38.9</td>\n      <td>41.3</td>\n      <td>44.8</td>\n      <td>50.7</td>\n      <td>55.5</td>\n    </tr>\n    <tr>\n      <th>std</th>\n      <td>NaN</td>\n      <td>NaN</td>\n      <td>NaN</td>\n      <td>NaN</td>\n      <td>NaN</td>\n      <td>NaN</td>\n      <td>NaN</td>\n      <td>NaN</td>\n      <td>NaN</td>\n      <td>NaN</td>\n      <td>NaN</td>\n      <td>NaN</td>\n      <td>NaN</td>\n      <td>NaN</td>\n      <td>NaN</td>\n      <td>NaN</td>\n      <td>NaN</td>\n      <td>NaN</td>\n      <td>NaN</td>\n      <td>NaN</td>\n    </tr>\n    <tr>\n      <th>min</th>\n      <td>29.5</td>\n      <td>23.6</td>\n      <td>33.0</td>\n      <td>28.3</td>\n      <td>40.1</td>\n      <td>38.9</td>\n      <td>45.4</td>\n      <td>44.8</td>\n      <td>56.6</td>\n      <td>55.5</td>\n      <td>13.6</td>\n      <td>23.6</td>\n      <td>20.5</td>\n      <td>28.3</td>\n      <td>31.9</td>\n      <td>38.9</td>\n      <td>41.3</td>\n      <td>44.8</td>\n      <td>50.7</td>\n      <td>55.5</td>\n    </tr>\n    <tr>\n      <th>25%</th>\n      <td>29.5</td>\n      <td>23.6</td>\n      <td>33.0</td>\n      <td>28.3</td>\n      <td>40.1</td>\n      <td>38.9</td>\n      <td>45.4</td>\n      <td>44.8</td>\n      <td>56.6</td>\n      <td>55.5</td>\n      <td>13.6</td>\n      <td>23.6</td>\n      <td>20.5</td>\n      <td>28.3</td>\n      <td>31.9</td>\n      <td>38.9</td>\n      <td>41.3</td>\n      <td>44.8</td>\n      <td>50.7</td>\n      <td>55.5</td>\n    </tr>\n    <tr>\n      <th>50%</th>\n      <td>29.5</td>\n      <td>23.6</td>\n      <td>33.0</td>\n      <td>28.3</td>\n      <td>40.1</td>\n      <td>38.9</td>\n      <td>45.4</td>\n      <td>44.8</td>\n      <td>56.6</td>\n      <td>55.5</td>\n      <td>13.6</td>\n      <td>23.6</td>\n      <td>20.5</td>\n      <td>28.3</td>\n      <td>31.9</td>\n      <td>38.9</td>\n      <td>41.3</td>\n      <td>44.8</td>\n      <td>50.7</td>\n      <td>55.5</td>\n    </tr>\n    <tr>\n      <th>75%</th>\n      <td>29.5</td>\n      <td>23.6</td>\n      <td>33.0</td>\n      <td>28.3</td>\n      <td>40.1</td>\n      <td>38.9</td>\n      <td>45.4</td>\n      <td>44.8</td>\n      <td>56.6</td>\n      <td>55.5</td>\n      <td>13.6</td>\n      <td>23.6</td>\n      <td>20.5</td>\n      <td>28.3</td>\n      <td>31.9</td>\n      <td>38.9</td>\n      <td>41.3</td>\n      <td>44.8</td>\n      <td>50.7</td>\n      <td>55.5</td>\n    </tr>\n    <tr>\n      <th>max</th>\n      <td>29.5</td>\n      <td>23.6</td>\n      <td>33.0</td>\n      <td>28.3</td>\n      <td>40.1</td>\n      <td>38.9</td>\n      <td>45.4</td>\n      <td>44.8</td>\n      <td>56.6</td>\n      <td>55.5</td>\n      <td>13.6</td>\n      <td>23.6</td>\n      <td>20.5</td>\n      <td>28.3</td>\n      <td>31.9</td>\n      <td>38.9</td>\n      <td>41.3</td>\n      <td>44.8</td>\n      <td>50.7</td>\n      <td>55.5</td>\n    </tr>\n  </tbody>\n</table>\n</div>"
     },
     "execution_count": 265,
     "metadata": {},
     "output_type": "execute_result"
    }
   ],
   "source": [
    "h.describe()"
   ],
   "metadata": {
    "collapsed": false,
    "ExecuteTime": {
     "end_time": "2023-08-27T11:53:36.275839500Z",
     "start_time": "2023-08-27T11:53:36.220210900Z"
    }
   },
   "id": "50923b7ee33595ec"
  },
  {
   "cell_type": "markdown",
   "source": [
    "From the above data we understand the charges are fixed first off all \n",
    "Secondly, there are additional charges for shipping, also there are rto charges if the shipping has to be made in after the toll booth\n",
    "Third, the charges are divided into zone \n",
    "    *A\n",
    "    *B\n",
    "    *C\n",
    "    *D\n",
    "    *E"
   ],
   "metadata": {
    "collapsed": false
   },
   "id": "1d0913e7f3a75a53"
  },
  {
   "cell_type": "markdown",
   "source": [
    "# Importing and Understanding Expected Result dataset"
   ],
   "metadata": {
    "collapsed": false
   },
   "id": "23e4d67c9d1b1a56"
  },
  {
   "cell_type": "code",
   "execution_count": 269,
   "outputs": [],
   "source": [
    "i = pd.read_excel('Data-20230825T133440Z-001/Data/Expected_Result.xlsx', sheet_name='Calculations') #Sheet1"
   ],
   "metadata": {
    "collapsed": false,
    "ExecuteTime": {
     "end_time": "2023-08-27T12:58:43.260568300Z",
     "start_time": "2023-08-27T12:58:43.213693700Z"
    }
   },
   "id": "308e173bd72e3027"
  },
  {
   "cell_type": "code",
   "execution_count": 271,
   "outputs": [],
   "source": [
    "j = pd.read_excel('Data-20230825T133440Z-001/Data/Expected_Result.xlsx')"
   ],
   "metadata": {
    "collapsed": false,
    "ExecuteTime": {
     "end_time": "2023-08-27T12:59:24.184409800Z",
     "start_time": "2023-08-27T12:59:24.153269400Z"
    }
   },
   "id": "b791036d4fa94cf6"
  },
  {
   "cell_type": "code",
   "execution_count": 270,
   "outputs": [
    {
     "data": {
      "text/plain": "     Order ID     AWB Number  Total weight as per X (KG)  \\\n0  2001806232  1091117222124                        1.30   \n1  2001806210  1091117221940                        0.22   \n\n   Weight slab as per X (KG)  Total weight as per Courier Company (KG)  \\\n0                        1.5                                      1.30   \n1                        0.5                                      2.92   \n\n   Weight slab charged by Courier Company (KG) Delivery Zone as per X  \\\n0                                          1.5                      D   \n1                                          3.0                      B   \n\n  Delivery Zone charged by Courier Company  Expected Charge as per X (Rs.)  \\\n0                                        D                             135   \n1                                        B                              33   \n\n   Charges Billed by Courier Company (Rs.)   \\\n0                                     135.0   \n1                                     174.5   \n\n   Difference Between Expected Charges and Billed Charges (Rs.)  \n0                                                0.0             \n1                                             -141.5             ",
      "text/html": "<div>\n<style scoped>\n    .dataframe tbody tr th:only-of-type {\n        vertical-align: middle;\n    }\n\n    .dataframe tbody tr th {\n        vertical-align: top;\n    }\n\n    .dataframe thead th {\n        text-align: right;\n    }\n</style>\n<table border=\"1\" class=\"dataframe\">\n  <thead>\n    <tr style=\"text-align: right;\">\n      <th></th>\n      <th>Order ID</th>\n      <th>AWB Number</th>\n      <th>Total weight as per X (KG)</th>\n      <th>Weight slab as per X (KG)</th>\n      <th>Total weight as per Courier Company (KG)</th>\n      <th>Weight slab charged by Courier Company (KG)</th>\n      <th>Delivery Zone as per X</th>\n      <th>Delivery Zone charged by Courier Company</th>\n      <th>Expected Charge as per X (Rs.)</th>\n      <th>Charges Billed by Courier Company (Rs.)</th>\n      <th>Difference Between Expected Charges and Billed Charges (Rs.)</th>\n    </tr>\n  </thead>\n  <tbody>\n    <tr>\n      <th>0</th>\n      <td>2001806232</td>\n      <td>1091117222124</td>\n      <td>1.30</td>\n      <td>1.5</td>\n      <td>1.30</td>\n      <td>1.5</td>\n      <td>D</td>\n      <td>D</td>\n      <td>135</td>\n      <td>135.0</td>\n      <td>0.0</td>\n    </tr>\n    <tr>\n      <th>1</th>\n      <td>2001806210</td>\n      <td>1091117221940</td>\n      <td>0.22</td>\n      <td>0.5</td>\n      <td>2.92</td>\n      <td>3.0</td>\n      <td>B</td>\n      <td>B</td>\n      <td>33</td>\n      <td>174.5</td>\n      <td>-141.5</td>\n    </tr>\n  </tbody>\n</table>\n</div>"
     },
     "execution_count": 270,
     "metadata": {},
     "output_type": "execute_result"
    }
   ],
   "source": [
    "i"
   ],
   "metadata": {
    "collapsed": false,
    "ExecuteTime": {
     "end_time": "2023-08-27T12:58:44.237522700Z",
     "start_time": "2023-08-27T12:58:44.205266100Z"
    }
   },
   "id": "a0afdea7f921027d"
  },
  {
   "cell_type": "code",
   "execution_count": 272,
   "outputs": [
    {
     "data": {
      "text/plain": "                         Unnamed: 0  Count  Amount\n0  Total Orders - Correctly Charged    1.0   135.0\n1       Total Orders - Over Charged    1.0  -141.5\n2      Total Orders - Under Charged    NaN     NaN",
      "text/html": "<div>\n<style scoped>\n    .dataframe tbody tr th:only-of-type {\n        vertical-align: middle;\n    }\n\n    .dataframe tbody tr th {\n        vertical-align: top;\n    }\n\n    .dataframe thead th {\n        text-align: right;\n    }\n</style>\n<table border=\"1\" class=\"dataframe\">\n  <thead>\n    <tr style=\"text-align: right;\">\n      <th></th>\n      <th>Unnamed: 0</th>\n      <th>Count</th>\n      <th>Amount</th>\n    </tr>\n  </thead>\n  <tbody>\n    <tr>\n      <th>0</th>\n      <td>Total Orders - Correctly Charged</td>\n      <td>1.0</td>\n      <td>135.0</td>\n    </tr>\n    <tr>\n      <th>1</th>\n      <td>Total Orders - Over Charged</td>\n      <td>1.0</td>\n      <td>-141.5</td>\n    </tr>\n    <tr>\n      <th>2</th>\n      <td>Total Orders - Under Charged</td>\n      <td>NaN</td>\n      <td>NaN</td>\n    </tr>\n  </tbody>\n</table>\n</div>"
     },
     "execution_count": 272,
     "metadata": {},
     "output_type": "execute_result"
    }
   ],
   "source": [
    "j"
   ],
   "metadata": {
    "collapsed": false,
    "ExecuteTime": {
     "end_time": "2023-08-27T12:59:27.857794300Z",
     "start_time": "2023-08-27T12:59:27.795391500Z"
    }
   },
   "id": "84d068d7c6c63846"
  },
  {
   "cell_type": "code",
   "execution_count": 273,
   "outputs": [
    {
     "data": {
      "text/plain": "           Order ID    AWB Number  Total weight as per X (KG)  \\\ncount  2.000000e+00  2.000000e+00                    2.000000   \nmean   2.001806e+09  1.091117e+12                    0.760000   \nstd    1.555635e+01  1.301076e+02                    0.763675   \nmin    2.001806e+09  1.091117e+12                    0.220000   \n25%    2.001806e+09  1.091117e+12                    0.490000   \n50%    2.001806e+09  1.091117e+12                    0.760000   \n75%    2.001806e+09  1.091117e+12                    1.030000   \nmax    2.001806e+09  1.091117e+12                    1.300000   \n\n       Weight slab as per X (KG)  Total weight as per Courier Company (KG)  \\\ncount                   2.000000                                  2.000000   \nmean                    1.000000                                  2.110000   \nstd                     0.707107                                  1.145513   \nmin                     0.500000                                  1.300000   \n25%                     0.750000                                  1.705000   \n50%                     1.000000                                  2.110000   \n75%                     1.250000                                  2.515000   \nmax                     1.500000                                  2.920000   \n\n       Weight slab charged by Courier Company (KG)  \\\ncount                                      2.00000   \nmean                                       2.25000   \nstd                                        1.06066   \nmin                                        1.50000   \n25%                                        1.87500   \n50%                                        2.25000   \n75%                                        2.62500   \nmax                                        3.00000   \n\n       Expected Charge as per X (Rs.)  \\\ncount                        2.000000   \nmean                        84.000000   \nstd                         72.124892   \nmin                         33.000000   \n25%                         58.500000   \n50%                         84.000000   \n75%                        109.500000   \nmax                        135.000000   \n\n       Charges Billed by Courier Company (Rs.)   \\\ncount                                  2.000000   \nmean                                 154.750000   \nstd                                   27.930718   \nmin                                  135.000000   \n25%                                  144.875000   \n50%                                  154.750000   \n75%                                  164.625000   \nmax                                  174.500000   \n\n       Difference Between Expected Charges and Billed Charges (Rs.)  \ncount                                            2.00000             \nmean                                           -70.75000             \nstd                                            100.05561             \nmin                                           -141.50000             \n25%                                           -106.12500             \n50%                                            -70.75000             \n75%                                            -35.37500             \nmax                                              0.00000             ",
      "text/html": "<div>\n<style scoped>\n    .dataframe tbody tr th:only-of-type {\n        vertical-align: middle;\n    }\n\n    .dataframe tbody tr th {\n        vertical-align: top;\n    }\n\n    .dataframe thead th {\n        text-align: right;\n    }\n</style>\n<table border=\"1\" class=\"dataframe\">\n  <thead>\n    <tr style=\"text-align: right;\">\n      <th></th>\n      <th>Order ID</th>\n      <th>AWB Number</th>\n      <th>Total weight as per X (KG)</th>\n      <th>Weight slab as per X (KG)</th>\n      <th>Total weight as per Courier Company (KG)</th>\n      <th>Weight slab charged by Courier Company (KG)</th>\n      <th>Expected Charge as per X (Rs.)</th>\n      <th>Charges Billed by Courier Company (Rs.)</th>\n      <th>Difference Between Expected Charges and Billed Charges (Rs.)</th>\n    </tr>\n  </thead>\n  <tbody>\n    <tr>\n      <th>count</th>\n      <td>2.000000e+00</td>\n      <td>2.000000e+00</td>\n      <td>2.000000</td>\n      <td>2.000000</td>\n      <td>2.000000</td>\n      <td>2.00000</td>\n      <td>2.000000</td>\n      <td>2.000000</td>\n      <td>2.00000</td>\n    </tr>\n    <tr>\n      <th>mean</th>\n      <td>2.001806e+09</td>\n      <td>1.091117e+12</td>\n      <td>0.760000</td>\n      <td>1.000000</td>\n      <td>2.110000</td>\n      <td>2.25000</td>\n      <td>84.000000</td>\n      <td>154.750000</td>\n      <td>-70.75000</td>\n    </tr>\n    <tr>\n      <th>std</th>\n      <td>1.555635e+01</td>\n      <td>1.301076e+02</td>\n      <td>0.763675</td>\n      <td>0.707107</td>\n      <td>1.145513</td>\n      <td>1.06066</td>\n      <td>72.124892</td>\n      <td>27.930718</td>\n      <td>100.05561</td>\n    </tr>\n    <tr>\n      <th>min</th>\n      <td>2.001806e+09</td>\n      <td>1.091117e+12</td>\n      <td>0.220000</td>\n      <td>0.500000</td>\n      <td>1.300000</td>\n      <td>1.50000</td>\n      <td>33.000000</td>\n      <td>135.000000</td>\n      <td>-141.50000</td>\n    </tr>\n    <tr>\n      <th>25%</th>\n      <td>2.001806e+09</td>\n      <td>1.091117e+12</td>\n      <td>0.490000</td>\n      <td>0.750000</td>\n      <td>1.705000</td>\n      <td>1.87500</td>\n      <td>58.500000</td>\n      <td>144.875000</td>\n      <td>-106.12500</td>\n    </tr>\n    <tr>\n      <th>50%</th>\n      <td>2.001806e+09</td>\n      <td>1.091117e+12</td>\n      <td>0.760000</td>\n      <td>1.000000</td>\n      <td>2.110000</td>\n      <td>2.25000</td>\n      <td>84.000000</td>\n      <td>154.750000</td>\n      <td>-70.75000</td>\n    </tr>\n    <tr>\n      <th>75%</th>\n      <td>2.001806e+09</td>\n      <td>1.091117e+12</td>\n      <td>1.030000</td>\n      <td>1.250000</td>\n      <td>2.515000</td>\n      <td>2.62500</td>\n      <td>109.500000</td>\n      <td>164.625000</td>\n      <td>-35.37500</td>\n    </tr>\n    <tr>\n      <th>max</th>\n      <td>2.001806e+09</td>\n      <td>1.091117e+12</td>\n      <td>1.300000</td>\n      <td>1.500000</td>\n      <td>2.920000</td>\n      <td>3.00000</td>\n      <td>135.000000</td>\n      <td>174.500000</td>\n      <td>0.00000</td>\n    </tr>\n  </tbody>\n</table>\n</div>"
     },
     "execution_count": 273,
     "metadata": {},
     "output_type": "execute_result"
    }
   ],
   "source": [
    "i.describe()"
   ],
   "metadata": {
    "collapsed": false,
    "ExecuteTime": {
     "end_time": "2023-08-27T12:59:46.632184Z",
     "start_time": "2023-08-27T12:59:46.550777200Z"
    }
   },
   "id": "d5e8f0318e3bae78"
  },
  {
   "cell_type": "code",
   "execution_count": 274,
   "outputs": [
    {
     "data": {
      "text/plain": "       Count      Amount\ncount    2.0    2.000000\nmean     1.0   -3.250000\nstd      0.0  195.515025\nmin      1.0 -141.500000\n25%      1.0  -72.375000\n50%      1.0   -3.250000\n75%      1.0   65.875000\nmax      1.0  135.000000",
      "text/html": "<div>\n<style scoped>\n    .dataframe tbody tr th:only-of-type {\n        vertical-align: middle;\n    }\n\n    .dataframe tbody tr th {\n        vertical-align: top;\n    }\n\n    .dataframe thead th {\n        text-align: right;\n    }\n</style>\n<table border=\"1\" class=\"dataframe\">\n  <thead>\n    <tr style=\"text-align: right;\">\n      <th></th>\n      <th>Count</th>\n      <th>Amount</th>\n    </tr>\n  </thead>\n  <tbody>\n    <tr>\n      <th>count</th>\n      <td>2.0</td>\n      <td>2.000000</td>\n    </tr>\n    <tr>\n      <th>mean</th>\n      <td>1.0</td>\n      <td>-3.250000</td>\n    </tr>\n    <tr>\n      <th>std</th>\n      <td>0.0</td>\n      <td>195.515025</td>\n    </tr>\n    <tr>\n      <th>min</th>\n      <td>1.0</td>\n      <td>-141.500000</td>\n    </tr>\n    <tr>\n      <th>25%</th>\n      <td>1.0</td>\n      <td>-72.375000</td>\n    </tr>\n    <tr>\n      <th>50%</th>\n      <td>1.0</td>\n      <td>-3.250000</td>\n    </tr>\n    <tr>\n      <th>75%</th>\n      <td>1.0</td>\n      <td>65.875000</td>\n    </tr>\n    <tr>\n      <th>max</th>\n      <td>1.0</td>\n      <td>135.000000</td>\n    </tr>\n  </tbody>\n</table>\n</div>"
     },
     "execution_count": 274,
     "metadata": {},
     "output_type": "execute_result"
    }
   ],
   "source": [
    "j.describe()"
   ],
   "metadata": {
    "collapsed": false,
    "ExecuteTime": {
     "end_time": "2023-08-27T12:59:50.741687200Z",
     "start_time": "2023-08-27T12:59:50.680294100Z"
    }
   },
   "id": "3b6df94c547a5039"
  },
  {
   "cell_type": "markdown",
   "source": [
    "# Now Task that we have to perform is\n",
    "\n",
    "##### Output Data 1\n",
    "###### Create a resultant CSV/Excel file with the following columns:\n",
    "• Order ID\n",
    "• AWB Number\n",
    "• Total weight as per X (KG)\n",
    "• Weight slab as per X (KG)\n",
    "• Total weight as per Courier Company (KG)\n",
    "Weight slab charged by Courier Company (KG)\n",
    "• Delivery Zone as per X\n",
    "Delivery Zone charged by Courier Company\n",
    "Expected Charge as per X (Rs.)\n",
    "Charges Billed by Courier Company (Rs.)\n",
    "Difference Between Expected Charges and Billed Charges (Rs.)"
   ],
   "metadata": {
    "collapsed": false
   },
   "id": "1ce8360db75bb406"
  },
  {
   "cell_type": "code",
   "execution_count": 296,
   "outputs": [],
   "source": [
    "#Step-1 gather and Organize data\n",
    "\n",
    "order_report = a\n",
    "sku_master = e\n",
    "pincode_zones = c\n",
    "courier_invoice = g\n"
   ],
   "metadata": {
    "collapsed": false,
    "ExecuteTime": {
     "end_time": "2023-08-27T13:25:42.155639500Z",
     "start_time": "2023-08-27T13:25:42.155639500Z"
    }
   },
   "id": "2b718b41d139842e"
  },
  {
   "cell_type": "code",
   "execution_count": 297,
   "outputs": [
    {
     "name": "stdout",
     "output_type": "stream",
     "text": [
      "       Order ID            SKU  Order Qty\n",
      "0    2001827036  8904223818706        1.0\n",
      "1    2001827036  8904223819093        1.0\n",
      "2    2001827036  8904223819109        1.0\n",
      "3    2001827036  8904223818430        1.0\n",
      "4    2001827036  8904223819277        1.0\n",
      "..          ...            ...        ...\n",
      "395  2001806229  8904223818942        1.0\n",
      "396  2001806229  8904223818850        1.0\n",
      "397  2001806226  8904223818850        2.0\n",
      "398  2001806210  8904223816214        1.0\n",
      "399  2001806210  8904223818874        1.0\n",
      "\n",
      "[400 rows x 3 columns]\n",
      "              SKU  Weight (g)\n",
      "0   8904223815682         210\n",
      "1   8904223815859         165\n",
      "2   8904223815866         113\n",
      "3   8904223815873          65\n",
      "4   8904223816214         120\n",
      "..            ...         ...\n",
      "61  8904223819505         210\n",
      "62  8904223819499         210\n",
      "63  8904223819512         210\n",
      "64  8904223819543         300\n",
      "65     SACHETS001          10\n",
      "\n",
      "[66 rows x 2 columns]\n",
      "     Warehouse Pincode  Customer Pincode Zone\n",
      "0               121003            507101    d\n",
      "1               121003            486886    d\n",
      "2               121003            532484    d\n",
      "3               121003            143001    b\n",
      "4               121003            515591    d\n",
      "..                 ...               ...  ...\n",
      "119             121003            325207    b\n",
      "120             121003            303702    b\n",
      "121             121003            313301    b\n",
      "122             121003            173212    e\n",
      "123             121003            302020    b\n",
      "\n",
      "[124 rows x 3 columns]\n",
      "          AWB Code    Order ID  Charged Weight  Warehouse Pincode  \\\n",
      "0    1091117222124  2001806232            1.30             121003   \n",
      "1    1091117222194  2001806273            1.00             121003   \n",
      "2    1091117222931  2001806408            2.50             121003   \n",
      "3    1091117223244  2001806458            1.00             121003   \n",
      "4    1091117229345  2001807012            0.15             121003   \n",
      "..             ...         ...             ...                ...   \n",
      "119  1091118551656  2001812941            0.73             121003   \n",
      "120  1091117614452  2001809383            0.50             121003   \n",
      "121  1091120922803  2001820978            0.50             121003   \n",
      "122  1091121844806  2001811475            0.50             121003   \n",
      "123  1091121846136  2001811305            0.50             121003   \n",
      "\n",
      "     Customer Pincode Zone         Type of Shipment  Billing Amount (Rs.)  \n",
      "0              507101    d          Forward charges                 135.0  \n",
      "1              486886    d          Forward charges                  90.2  \n",
      "2              532484    d          Forward charges                 224.6  \n",
      "3              143001    b          Forward charges                  61.3  \n",
      "4              515591    d          Forward charges                  45.4  \n",
      "..                ...  ...                      ...                   ...  \n",
      "119            325207    d          Forward charges                  90.2  \n",
      "120            303702    d  Forward and RTO charges                  86.7  \n",
      "121            313301    d          Forward charges                  45.4  \n",
      "122            173212    b          Forward charges                  33.0  \n",
      "123            302020    d          Forward charges                  45.4  \n",
      "\n",
      "[124 rows x 8 columns]\n"
     ]
    }
   ],
   "source": [
    "print(order_report)\n",
    "print(sku_master)\n",
    "print(pincode_zones)\n",
    "print(courier_invoice)"
   ],
   "metadata": {
    "collapsed": false,
    "ExecuteTime": {
     "end_time": "2023-08-27T13:25:42.702618700Z",
     "start_time": "2023-08-27T13:25:42.680381200Z"
    }
   },
   "id": "b39faaaf18f0e85f"
  },
  {
   "cell_type": "code",
   "execution_count": 300,
   "outputs": [],
   "source": [
    "#step-2 calculate Total weight and weigth slab\n",
    "\n",
    "orders = order_report.merge(sku_master, on='SKU')\n",
    "orders['Total Weight'] = orders.groupby('Order ID')['Weight (g)'].transform('sum')\n",
    "orders['Weight Slab'] = (orders['Total Weight'] // 500 + 1) * 0.5"
   ],
   "metadata": {
    "collapsed": false,
    "ExecuteTime": {
     "end_time": "2023-08-27T13:25:56.933983200Z",
     "start_time": "2023-08-27T13:25:56.886857700Z"
    }
   },
   "id": "2103211f4178e1c"
  },
  {
   "cell_type": "code",
   "execution_count": 301,
   "outputs": [
    {
     "data": {
      "text/plain": "       Order ID            SKU  Order Qty  Weight (g)  Total Weight  \\\n0    2001827036  8904223818706        1.0         127          2039   \n1    2001821995  8904223818706        1.0         127           477   \n2    2001819252  8904223818706        1.0         127           270   \n3    2001816996  8904223818706        1.0         127           500   \n4    2001814580  8904223818706        1.0         127           127   \n..          ...            ...        ...         ...           ...   \n396  2001806616  8904223819123        1.0         250           963   \n397  2001806567  8904223815804        1.0         160           952   \n398  2001806567  8904223818577        1.0         150           952   \n399  2001806408  8904223819437        2.0         552           929   \n400  2001806232  8904223818645        6.0         137           377   \n\n     Weight Slab  \n0            2.5  \n1            0.5  \n2            0.5  \n3            1.0  \n4            0.5  \n..           ...  \n396          1.0  \n397          1.0  \n398          1.0  \n399          1.0  \n400          0.5  \n\n[401 rows x 6 columns]",
      "text/html": "<div>\n<style scoped>\n    .dataframe tbody tr th:only-of-type {\n        vertical-align: middle;\n    }\n\n    .dataframe tbody tr th {\n        vertical-align: top;\n    }\n\n    .dataframe thead th {\n        text-align: right;\n    }\n</style>\n<table border=\"1\" class=\"dataframe\">\n  <thead>\n    <tr style=\"text-align: right;\">\n      <th></th>\n      <th>Order ID</th>\n      <th>SKU</th>\n      <th>Order Qty</th>\n      <th>Weight (g)</th>\n      <th>Total Weight</th>\n      <th>Weight Slab</th>\n    </tr>\n  </thead>\n  <tbody>\n    <tr>\n      <th>0</th>\n      <td>2001827036</td>\n      <td>8904223818706</td>\n      <td>1.0</td>\n      <td>127</td>\n      <td>2039</td>\n      <td>2.5</td>\n    </tr>\n    <tr>\n      <th>1</th>\n      <td>2001821995</td>\n      <td>8904223818706</td>\n      <td>1.0</td>\n      <td>127</td>\n      <td>477</td>\n      <td>0.5</td>\n    </tr>\n    <tr>\n      <th>2</th>\n      <td>2001819252</td>\n      <td>8904223818706</td>\n      <td>1.0</td>\n      <td>127</td>\n      <td>270</td>\n      <td>0.5</td>\n    </tr>\n    <tr>\n      <th>3</th>\n      <td>2001816996</td>\n      <td>8904223818706</td>\n      <td>1.0</td>\n      <td>127</td>\n      <td>500</td>\n      <td>1.0</td>\n    </tr>\n    <tr>\n      <th>4</th>\n      <td>2001814580</td>\n      <td>8904223818706</td>\n      <td>1.0</td>\n      <td>127</td>\n      <td>127</td>\n      <td>0.5</td>\n    </tr>\n    <tr>\n      <th>...</th>\n      <td>...</td>\n      <td>...</td>\n      <td>...</td>\n      <td>...</td>\n      <td>...</td>\n      <td>...</td>\n    </tr>\n    <tr>\n      <th>396</th>\n      <td>2001806616</td>\n      <td>8904223819123</td>\n      <td>1.0</td>\n      <td>250</td>\n      <td>963</td>\n      <td>1.0</td>\n    </tr>\n    <tr>\n      <th>397</th>\n      <td>2001806567</td>\n      <td>8904223815804</td>\n      <td>1.0</td>\n      <td>160</td>\n      <td>952</td>\n      <td>1.0</td>\n    </tr>\n    <tr>\n      <th>398</th>\n      <td>2001806567</td>\n      <td>8904223818577</td>\n      <td>1.0</td>\n      <td>150</td>\n      <td>952</td>\n      <td>1.0</td>\n    </tr>\n    <tr>\n      <th>399</th>\n      <td>2001806408</td>\n      <td>8904223819437</td>\n      <td>2.0</td>\n      <td>552</td>\n      <td>929</td>\n      <td>1.0</td>\n    </tr>\n    <tr>\n      <th>400</th>\n      <td>2001806232</td>\n      <td>8904223818645</td>\n      <td>6.0</td>\n      <td>137</td>\n      <td>377</td>\n      <td>0.5</td>\n    </tr>\n  </tbody>\n</table>\n<p>401 rows × 6 columns</p>\n</div>"
     },
     "execution_count": 301,
     "metadata": {},
     "output_type": "execute_result"
    }
   ],
   "source": [
    "orders"
   ],
   "metadata": {
    "collapsed": false,
    "ExecuteTime": {
     "end_time": "2023-08-27T13:25:58.015924500Z",
     "start_time": "2023-08-27T13:25:57.984454100Z"
    }
   },
   "id": "2b06f225e8fe4130"
  },
  {
   "cell_type": "code",
   "execution_count": 335,
   "outputs": [
    {
     "data": {
      "text/plain": "     Warehouse Pincode  Customer Pincode Zone\n0               121003            507101    d\n1               121003            486886    d\n2               121003            532484    d\n3               121003            143001    b\n4               121003            515591    d\n..                 ...               ...  ...\n119             121003            325207    b\n120             121003            303702    b\n121             121003            313301    b\n122             121003            173212    e\n123             121003            302020    b\n\n[124 rows x 3 columns]",
      "text/html": "<div>\n<style scoped>\n    .dataframe tbody tr th:only-of-type {\n        vertical-align: middle;\n    }\n\n    .dataframe tbody tr th {\n        vertical-align: top;\n    }\n\n    .dataframe thead th {\n        text-align: right;\n    }\n</style>\n<table border=\"1\" class=\"dataframe\">\n  <thead>\n    <tr style=\"text-align: right;\">\n      <th></th>\n      <th>Warehouse Pincode</th>\n      <th>Customer Pincode</th>\n      <th>Zone</th>\n    </tr>\n  </thead>\n  <tbody>\n    <tr>\n      <th>0</th>\n      <td>121003</td>\n      <td>507101</td>\n      <td>d</td>\n    </tr>\n    <tr>\n      <th>1</th>\n      <td>121003</td>\n      <td>486886</td>\n      <td>d</td>\n    </tr>\n    <tr>\n      <th>2</th>\n      <td>121003</td>\n      <td>532484</td>\n      <td>d</td>\n    </tr>\n    <tr>\n      <th>3</th>\n      <td>121003</td>\n      <td>143001</td>\n      <td>b</td>\n    </tr>\n    <tr>\n      <th>4</th>\n      <td>121003</td>\n      <td>515591</td>\n      <td>d</td>\n    </tr>\n    <tr>\n      <th>...</th>\n      <td>...</td>\n      <td>...</td>\n      <td>...</td>\n    </tr>\n    <tr>\n      <th>119</th>\n      <td>121003</td>\n      <td>325207</td>\n      <td>b</td>\n    </tr>\n    <tr>\n      <th>120</th>\n      <td>121003</td>\n      <td>303702</td>\n      <td>b</td>\n    </tr>\n    <tr>\n      <th>121</th>\n      <td>121003</td>\n      <td>313301</td>\n      <td>b</td>\n    </tr>\n    <tr>\n      <th>122</th>\n      <td>121003</td>\n      <td>173212</td>\n      <td>e</td>\n    </tr>\n    <tr>\n      <th>123</th>\n      <td>121003</td>\n      <td>302020</td>\n      <td>b</td>\n    </tr>\n  </tbody>\n</table>\n<p>124 rows × 3 columns</p>\n</div>"
     },
     "execution_count": 335,
     "metadata": {},
     "output_type": "execute_result"
    }
   ],
   "source": [
    "pincode_zones"
   ],
   "metadata": {
    "collapsed": false,
    "ExecuteTime": {
     "end_time": "2023-08-27T13:54:08.049585800Z",
     "start_time": "2023-08-27T13:54:08.002040300Z"
    }
   },
   "id": "396aa1db9364a3a8"
  },
  {
   "cell_type": "code",
   "execution_count": 336,
   "outputs": [],
   "source": [
    "#Step-3 compare with courier company data\n",
    "\n",
    "comparision = orders.merge(courier_invoice, on=['Order ID'], suffixes=['_X_Courier'])"
   ],
   "metadata": {
    "collapsed": false,
    "ExecuteTime": {
     "end_time": "2023-08-27T13:54:08.497442900Z",
     "start_time": "2023-08-27T13:54:08.481307600Z"
    }
   },
   "id": "36920c1c2fe6dd7f"
  },
  {
   "cell_type": "code",
   "execution_count": 337,
   "outputs": [
    {
     "data": {
      "text/plain": "       Order ID            SKU  Order Qty  Weight (g)  Total Weight  \\\n0    2001827036  8904223818706        1.0         127          2039   \n1    2001827036  8904223819093        1.0         150          2039   \n2    2001827036  8904223819109        1.0         100          2039   \n3    2001827036  8904223818430        1.0         165          2039   \n4    2001827036  8904223819277        1.0         350          2039   \n..          ...            ...        ...         ...           ...   \n396  2001806251  8904223819161        1.0         115           245   \n397  2001806251  8904223819260        1.0         130           245   \n398  2001806233  8904223819161        1.0         115           245   \n399  2001806233  8904223819260        1.0         130           245   \n400  2001807328  8904223818997        1.0         490           490   \n\n     Weight Slab       AWB Code  Charged Weight  Warehouse Pincode  \\\n0            2.5  1091122418320            1.60             121003   \n1            2.5  1091122418320            1.60             121003   \n2            2.5  1091122418320            1.60             121003   \n3            2.5  1091122418320            1.60             121003   \n4            2.5  1091122418320            1.60             121003   \n..           ...            ...             ...                ...   \n396          0.5  1091117222146            1.27             121003   \n397          0.5  1091117222146            1.27             121003   \n398          0.5  1091117222135            0.78             121003   \n399          0.5  1091117222135            0.78             121003   \n400          0.5  1091117324346            2.28             121003   \n\n     Customer Pincode Zone Type of Shipment  Billing Amount (Rs.)  \n0              173213    b  Forward charges                 117.9  \n1              173213    b  Forward charges                 117.9  \n2              173213    b  Forward charges                 117.9  \n3              173213    b  Forward charges                 117.9  \n4              173213    b  Forward charges                 117.9  \n..                ...  ...              ...                   ...  \n396            743263    d  Forward charges                 135.0  \n397            743263    d  Forward charges                 135.0  \n398            263139    b  Forward charges                  61.3  \n399            263139    b  Forward charges                  61.3  \n400            335502    d  Forward charges                 224.6  \n\n[401 rows x 13 columns]",
      "text/html": "<div>\n<style scoped>\n    .dataframe tbody tr th:only-of-type {\n        vertical-align: middle;\n    }\n\n    .dataframe tbody tr th {\n        vertical-align: top;\n    }\n\n    .dataframe thead th {\n        text-align: right;\n    }\n</style>\n<table border=\"1\" class=\"dataframe\">\n  <thead>\n    <tr style=\"text-align: right;\">\n      <th></th>\n      <th>Order ID</th>\n      <th>SKU</th>\n      <th>Order Qty</th>\n      <th>Weight (g)</th>\n      <th>Total Weight</th>\n      <th>Weight Slab</th>\n      <th>AWB Code</th>\n      <th>Charged Weight</th>\n      <th>Warehouse Pincode</th>\n      <th>Customer Pincode</th>\n      <th>Zone</th>\n      <th>Type of Shipment</th>\n      <th>Billing Amount (Rs.)</th>\n    </tr>\n  </thead>\n  <tbody>\n    <tr>\n      <th>0</th>\n      <td>2001827036</td>\n      <td>8904223818706</td>\n      <td>1.0</td>\n      <td>127</td>\n      <td>2039</td>\n      <td>2.5</td>\n      <td>1091122418320</td>\n      <td>1.60</td>\n      <td>121003</td>\n      <td>173213</td>\n      <td>b</td>\n      <td>Forward charges</td>\n      <td>117.9</td>\n    </tr>\n    <tr>\n      <th>1</th>\n      <td>2001827036</td>\n      <td>8904223819093</td>\n      <td>1.0</td>\n      <td>150</td>\n      <td>2039</td>\n      <td>2.5</td>\n      <td>1091122418320</td>\n      <td>1.60</td>\n      <td>121003</td>\n      <td>173213</td>\n      <td>b</td>\n      <td>Forward charges</td>\n      <td>117.9</td>\n    </tr>\n    <tr>\n      <th>2</th>\n      <td>2001827036</td>\n      <td>8904223819109</td>\n      <td>1.0</td>\n      <td>100</td>\n      <td>2039</td>\n      <td>2.5</td>\n      <td>1091122418320</td>\n      <td>1.60</td>\n      <td>121003</td>\n      <td>173213</td>\n      <td>b</td>\n      <td>Forward charges</td>\n      <td>117.9</td>\n    </tr>\n    <tr>\n      <th>3</th>\n      <td>2001827036</td>\n      <td>8904223818430</td>\n      <td>1.0</td>\n      <td>165</td>\n      <td>2039</td>\n      <td>2.5</td>\n      <td>1091122418320</td>\n      <td>1.60</td>\n      <td>121003</td>\n      <td>173213</td>\n      <td>b</td>\n      <td>Forward charges</td>\n      <td>117.9</td>\n    </tr>\n    <tr>\n      <th>4</th>\n      <td>2001827036</td>\n      <td>8904223819277</td>\n      <td>1.0</td>\n      <td>350</td>\n      <td>2039</td>\n      <td>2.5</td>\n      <td>1091122418320</td>\n      <td>1.60</td>\n      <td>121003</td>\n      <td>173213</td>\n      <td>b</td>\n      <td>Forward charges</td>\n      <td>117.9</td>\n    </tr>\n    <tr>\n      <th>...</th>\n      <td>...</td>\n      <td>...</td>\n      <td>...</td>\n      <td>...</td>\n      <td>...</td>\n      <td>...</td>\n      <td>...</td>\n      <td>...</td>\n      <td>...</td>\n      <td>...</td>\n      <td>...</td>\n      <td>...</td>\n      <td>...</td>\n    </tr>\n    <tr>\n      <th>396</th>\n      <td>2001806251</td>\n      <td>8904223819161</td>\n      <td>1.0</td>\n      <td>115</td>\n      <td>245</td>\n      <td>0.5</td>\n      <td>1091117222146</td>\n      <td>1.27</td>\n      <td>121003</td>\n      <td>743263</td>\n      <td>d</td>\n      <td>Forward charges</td>\n      <td>135.0</td>\n    </tr>\n    <tr>\n      <th>397</th>\n      <td>2001806251</td>\n      <td>8904223819260</td>\n      <td>1.0</td>\n      <td>130</td>\n      <td>245</td>\n      <td>0.5</td>\n      <td>1091117222146</td>\n      <td>1.27</td>\n      <td>121003</td>\n      <td>743263</td>\n      <td>d</td>\n      <td>Forward charges</td>\n      <td>135.0</td>\n    </tr>\n    <tr>\n      <th>398</th>\n      <td>2001806233</td>\n      <td>8904223819161</td>\n      <td>1.0</td>\n      <td>115</td>\n      <td>245</td>\n      <td>0.5</td>\n      <td>1091117222135</td>\n      <td>0.78</td>\n      <td>121003</td>\n      <td>263139</td>\n      <td>b</td>\n      <td>Forward charges</td>\n      <td>61.3</td>\n    </tr>\n    <tr>\n      <th>399</th>\n      <td>2001806233</td>\n      <td>8904223819260</td>\n      <td>1.0</td>\n      <td>130</td>\n      <td>245</td>\n      <td>0.5</td>\n      <td>1091117222135</td>\n      <td>0.78</td>\n      <td>121003</td>\n      <td>263139</td>\n      <td>b</td>\n      <td>Forward charges</td>\n      <td>61.3</td>\n    </tr>\n    <tr>\n      <th>400</th>\n      <td>2001807328</td>\n      <td>8904223818997</td>\n      <td>1.0</td>\n      <td>490</td>\n      <td>490</td>\n      <td>0.5</td>\n      <td>1091117324346</td>\n      <td>2.28</td>\n      <td>121003</td>\n      <td>335502</td>\n      <td>d</td>\n      <td>Forward charges</td>\n      <td>224.6</td>\n    </tr>\n  </tbody>\n</table>\n<p>401 rows × 13 columns</p>\n</div>"
     },
     "execution_count": 337,
     "metadata": {},
     "output_type": "execute_result"
    }
   ],
   "source": [
    "comparision"
   ],
   "metadata": {
    "collapsed": false,
    "ExecuteTime": {
     "end_time": "2023-08-27T13:54:11.091173600Z",
     "start_time": "2023-08-27T13:54:11.059433600Z"
    }
   },
   "id": "4363693f3a175621"
  },
  {
   "cell_type": "code",
   "execution_count": 338,
   "outputs": [],
   "source": [
    "comparision = comparision.merge(pincode_zones, on='Warehouse Pincode')"
   ],
   "metadata": {
    "collapsed": false,
    "ExecuteTime": {
     "end_time": "2023-08-27T13:54:17.783253100Z",
     "start_time": "2023-08-27T13:54:17.751939300Z"
    }
   },
   "id": "b9ef320260bf04fd"
  },
  {
   "cell_type": "code",
   "execution_count": 339,
   "outputs": [
    {
     "data": {
      "text/plain": "         Order ID            SKU  Order Qty  Weight (g)  Total Weight  \\\n0      2001827036  8904223818706        1.0         127          2039   \n1      2001827036  8904223818706        1.0         127          2039   \n2      2001827036  8904223818706        1.0         127          2039   \n3      2001827036  8904223818706        1.0         127          2039   \n4      2001827036  8904223818706        1.0         127          2039   \n...           ...            ...        ...         ...           ...   \n49719  2001807328  8904223818997        1.0         490           490   \n49720  2001807328  8904223818997        1.0         490           490   \n49721  2001807328  8904223818997        1.0         490           490   \n49722  2001807328  8904223818997        1.0         490           490   \n49723  2001807328  8904223818997        1.0         490           490   \n\n       Weight Slab       AWB Code  Charged Weight  Warehouse Pincode  \\\n0              2.5  1091122418320            1.60             121003   \n1              2.5  1091122418320            1.60             121003   \n2              2.5  1091122418320            1.60             121003   \n3              2.5  1091122418320            1.60             121003   \n4              2.5  1091122418320            1.60             121003   \n...            ...            ...             ...                ...   \n49719          0.5  1091117324346            2.28             121003   \n49720          0.5  1091117324346            2.28             121003   \n49721          0.5  1091117324346            2.28             121003   \n49722          0.5  1091117324346            2.28             121003   \n49723          0.5  1091117324346            2.28             121003   \n\n       Customer Pincode_x Zone_x Type of Shipment  Billing Amount (Rs.)  \\\n0                  173213      b  Forward charges                 117.9   \n1                  173213      b  Forward charges                 117.9   \n2                  173213      b  Forward charges                 117.9   \n3                  173213      b  Forward charges                 117.9   \n4                  173213      b  Forward charges                 117.9   \n...                   ...    ...              ...                   ...   \n49719              335502      d  Forward charges                 224.6   \n49720              335502      d  Forward charges                 224.6   \n49721              335502      d  Forward charges                 224.6   \n49722              335502      d  Forward charges                 224.6   \n49723              335502      d  Forward charges                 224.6   \n\n       Customer Pincode_y Zone_y  \n0                  507101      d  \n1                  486886      d  \n2                  532484      d  \n3                  143001      b  \n4                  515591      d  \n...                   ...    ...  \n49719              325207      b  \n49720              303702      b  \n49721              313301      b  \n49722              173212      e  \n49723              302020      b  \n\n[49724 rows x 15 columns]",
      "text/html": "<div>\n<style scoped>\n    .dataframe tbody tr th:only-of-type {\n        vertical-align: middle;\n    }\n\n    .dataframe tbody tr th {\n        vertical-align: top;\n    }\n\n    .dataframe thead th {\n        text-align: right;\n    }\n</style>\n<table border=\"1\" class=\"dataframe\">\n  <thead>\n    <tr style=\"text-align: right;\">\n      <th></th>\n      <th>Order ID</th>\n      <th>SKU</th>\n      <th>Order Qty</th>\n      <th>Weight (g)</th>\n      <th>Total Weight</th>\n      <th>Weight Slab</th>\n      <th>AWB Code</th>\n      <th>Charged Weight</th>\n      <th>Warehouse Pincode</th>\n      <th>Customer Pincode_x</th>\n      <th>Zone_x</th>\n      <th>Type of Shipment</th>\n      <th>Billing Amount (Rs.)</th>\n      <th>Customer Pincode_y</th>\n      <th>Zone_y</th>\n    </tr>\n  </thead>\n  <tbody>\n    <tr>\n      <th>0</th>\n      <td>2001827036</td>\n      <td>8904223818706</td>\n      <td>1.0</td>\n      <td>127</td>\n      <td>2039</td>\n      <td>2.5</td>\n      <td>1091122418320</td>\n      <td>1.60</td>\n      <td>121003</td>\n      <td>173213</td>\n      <td>b</td>\n      <td>Forward charges</td>\n      <td>117.9</td>\n      <td>507101</td>\n      <td>d</td>\n    </tr>\n    <tr>\n      <th>1</th>\n      <td>2001827036</td>\n      <td>8904223818706</td>\n      <td>1.0</td>\n      <td>127</td>\n      <td>2039</td>\n      <td>2.5</td>\n      <td>1091122418320</td>\n      <td>1.60</td>\n      <td>121003</td>\n      <td>173213</td>\n      <td>b</td>\n      <td>Forward charges</td>\n      <td>117.9</td>\n      <td>486886</td>\n      <td>d</td>\n    </tr>\n    <tr>\n      <th>2</th>\n      <td>2001827036</td>\n      <td>8904223818706</td>\n      <td>1.0</td>\n      <td>127</td>\n      <td>2039</td>\n      <td>2.5</td>\n      <td>1091122418320</td>\n      <td>1.60</td>\n      <td>121003</td>\n      <td>173213</td>\n      <td>b</td>\n      <td>Forward charges</td>\n      <td>117.9</td>\n      <td>532484</td>\n      <td>d</td>\n    </tr>\n    <tr>\n      <th>3</th>\n      <td>2001827036</td>\n      <td>8904223818706</td>\n      <td>1.0</td>\n      <td>127</td>\n      <td>2039</td>\n      <td>2.5</td>\n      <td>1091122418320</td>\n      <td>1.60</td>\n      <td>121003</td>\n      <td>173213</td>\n      <td>b</td>\n      <td>Forward charges</td>\n      <td>117.9</td>\n      <td>143001</td>\n      <td>b</td>\n    </tr>\n    <tr>\n      <th>4</th>\n      <td>2001827036</td>\n      <td>8904223818706</td>\n      <td>1.0</td>\n      <td>127</td>\n      <td>2039</td>\n      <td>2.5</td>\n      <td>1091122418320</td>\n      <td>1.60</td>\n      <td>121003</td>\n      <td>173213</td>\n      <td>b</td>\n      <td>Forward charges</td>\n      <td>117.9</td>\n      <td>515591</td>\n      <td>d</td>\n    </tr>\n    <tr>\n      <th>...</th>\n      <td>...</td>\n      <td>...</td>\n      <td>...</td>\n      <td>...</td>\n      <td>...</td>\n      <td>...</td>\n      <td>...</td>\n      <td>...</td>\n      <td>...</td>\n      <td>...</td>\n      <td>...</td>\n      <td>...</td>\n      <td>...</td>\n      <td>...</td>\n      <td>...</td>\n    </tr>\n    <tr>\n      <th>49719</th>\n      <td>2001807328</td>\n      <td>8904223818997</td>\n      <td>1.0</td>\n      <td>490</td>\n      <td>490</td>\n      <td>0.5</td>\n      <td>1091117324346</td>\n      <td>2.28</td>\n      <td>121003</td>\n      <td>335502</td>\n      <td>d</td>\n      <td>Forward charges</td>\n      <td>224.6</td>\n      <td>325207</td>\n      <td>b</td>\n    </tr>\n    <tr>\n      <th>49720</th>\n      <td>2001807328</td>\n      <td>8904223818997</td>\n      <td>1.0</td>\n      <td>490</td>\n      <td>490</td>\n      <td>0.5</td>\n      <td>1091117324346</td>\n      <td>2.28</td>\n      <td>121003</td>\n      <td>335502</td>\n      <td>d</td>\n      <td>Forward charges</td>\n      <td>224.6</td>\n      <td>303702</td>\n      <td>b</td>\n    </tr>\n    <tr>\n      <th>49721</th>\n      <td>2001807328</td>\n      <td>8904223818997</td>\n      <td>1.0</td>\n      <td>490</td>\n      <td>490</td>\n      <td>0.5</td>\n      <td>1091117324346</td>\n      <td>2.28</td>\n      <td>121003</td>\n      <td>335502</td>\n      <td>d</td>\n      <td>Forward charges</td>\n      <td>224.6</td>\n      <td>313301</td>\n      <td>b</td>\n    </tr>\n    <tr>\n      <th>49722</th>\n      <td>2001807328</td>\n      <td>8904223818997</td>\n      <td>1.0</td>\n      <td>490</td>\n      <td>490</td>\n      <td>0.5</td>\n      <td>1091117324346</td>\n      <td>2.28</td>\n      <td>121003</td>\n      <td>335502</td>\n      <td>d</td>\n      <td>Forward charges</td>\n      <td>224.6</td>\n      <td>173212</td>\n      <td>e</td>\n    </tr>\n    <tr>\n      <th>49723</th>\n      <td>2001807328</td>\n      <td>8904223818997</td>\n      <td>1.0</td>\n      <td>490</td>\n      <td>490</td>\n      <td>0.5</td>\n      <td>1091117324346</td>\n      <td>2.28</td>\n      <td>121003</td>\n      <td>335502</td>\n      <td>d</td>\n      <td>Forward charges</td>\n      <td>224.6</td>\n      <td>302020</td>\n      <td>b</td>\n    </tr>\n  </tbody>\n</table>\n<p>49724 rows × 15 columns</p>\n</div>"
     },
     "execution_count": 339,
     "metadata": {},
     "output_type": "execute_result"
    }
   ],
   "source": [
    "comparision"
   ],
   "metadata": {
    "collapsed": false,
    "ExecuteTime": {
     "end_time": "2023-08-27T13:54:19.986242600Z",
     "start_time": "2023-08-27T13:54:19.954562700Z"
    }
   },
   "id": "e94f3d744b55d092"
  },
  {
   "cell_type": "code",
   "execution_count": 340,
   "outputs": [],
   "source": [
    "comparision = comparision[['Order ID', 'AWB Code', 'Total Weight', 'Weight Slab', 'Zone_y', 'Billing Amount (Rs.)', 'Warehouse Pincode', 'Customer Pincode_x', 'Customer Pincode_y', 'Type of Shipment', 'SKU', 'Weight (g)', 'Charged Weight', ]].drop_duplicates()"
   ],
   "metadata": {
    "collapsed": false,
    "ExecuteTime": {
     "end_time": "2023-08-27T13:58:08.965115800Z",
     "start_time": "2023-08-27T13:58:08.901385300Z"
    }
   },
   "id": "8c0eefbff936595e"
  },
  {
   "cell_type": "code",
   "execution_count": 341,
   "outputs": [
    {
     "data": {
      "text/plain": "         Order ID       AWB Code  Total Weight  Weight Slab Zone_y  \\\n0      2001827036  1091122418320          2039          2.5      d   \n1      2001827036  1091122418320          2039          2.5      d   \n2      2001827036  1091122418320          2039          2.5      d   \n3      2001827036  1091122418320          2039          2.5      b   \n4      2001827036  1091122418320          2039          2.5      d   \n...           ...            ...           ...          ...    ...   \n49714  2001807328  1091117324346           490          0.5      b   \n49715  2001807328  1091117324346           490          0.5      b   \n49719  2001807328  1091117324346           490          0.5      b   \n49720  2001807328  1091117324346           490          0.5      b   \n49721  2001807328  1091117324346           490          0.5      b   \n\n       Billing Amount (Rs.)  Warehouse Pincode  Customer Pincode_x  \\\n0                     117.9             121003              173213   \n1                     117.9             121003              173213   \n2                     117.9             121003              173213   \n3                     117.9             121003              173213   \n4                     117.9             121003              173213   \n...                     ...                ...                 ...   \n49714                 224.6             121003              335502   \n49715                 224.6             121003              335502   \n49719                 224.6             121003              335502   \n49720                 224.6             121003              335502   \n49721                 224.6             121003              335502   \n\n       Customer Pincode_y Type of Shipment            SKU  Weight (g)  \\\n0                  507101  Forward charges  8904223818706         127   \n1                  486886  Forward charges  8904223818706         127   \n2                  532484  Forward charges  8904223818706         127   \n3                  143001  Forward charges  8904223818706         127   \n4                  515591  Forward charges  8904223818706         127   \n...                   ...              ...            ...         ...   \n49714              324008  Forward charges  8904223818997         490   \n49715              302020  Forward charges  8904223818997         490   \n49719              325207  Forward charges  8904223818997         490   \n49720              303702  Forward charges  8904223818997         490   \n49721              313301  Forward charges  8904223818997         490   \n\n       Charged Weight  \n0                1.60  \n1                1.60  \n2                1.60  \n3                1.60  \n4                1.60  \n...               ...  \n49714            2.28  \n49715            2.28  \n49719            2.28  \n49720            2.28  \n49721            2.28  \n\n[42444 rows x 13 columns]",
      "text/html": "<div>\n<style scoped>\n    .dataframe tbody tr th:only-of-type {\n        vertical-align: middle;\n    }\n\n    .dataframe tbody tr th {\n        vertical-align: top;\n    }\n\n    .dataframe thead th {\n        text-align: right;\n    }\n</style>\n<table border=\"1\" class=\"dataframe\">\n  <thead>\n    <tr style=\"text-align: right;\">\n      <th></th>\n      <th>Order ID</th>\n      <th>AWB Code</th>\n      <th>Total Weight</th>\n      <th>Weight Slab</th>\n      <th>Zone_y</th>\n      <th>Billing Amount (Rs.)</th>\n      <th>Warehouse Pincode</th>\n      <th>Customer Pincode_x</th>\n      <th>Customer Pincode_y</th>\n      <th>Type of Shipment</th>\n      <th>SKU</th>\n      <th>Weight (g)</th>\n      <th>Charged Weight</th>\n    </tr>\n  </thead>\n  <tbody>\n    <tr>\n      <th>0</th>\n      <td>2001827036</td>\n      <td>1091122418320</td>\n      <td>2039</td>\n      <td>2.5</td>\n      <td>d</td>\n      <td>117.9</td>\n      <td>121003</td>\n      <td>173213</td>\n      <td>507101</td>\n      <td>Forward charges</td>\n      <td>8904223818706</td>\n      <td>127</td>\n      <td>1.60</td>\n    </tr>\n    <tr>\n      <th>1</th>\n      <td>2001827036</td>\n      <td>1091122418320</td>\n      <td>2039</td>\n      <td>2.5</td>\n      <td>d</td>\n      <td>117.9</td>\n      <td>121003</td>\n      <td>173213</td>\n      <td>486886</td>\n      <td>Forward charges</td>\n      <td>8904223818706</td>\n      <td>127</td>\n      <td>1.60</td>\n    </tr>\n    <tr>\n      <th>2</th>\n      <td>2001827036</td>\n      <td>1091122418320</td>\n      <td>2039</td>\n      <td>2.5</td>\n      <td>d</td>\n      <td>117.9</td>\n      <td>121003</td>\n      <td>173213</td>\n      <td>532484</td>\n      <td>Forward charges</td>\n      <td>8904223818706</td>\n      <td>127</td>\n      <td>1.60</td>\n    </tr>\n    <tr>\n      <th>3</th>\n      <td>2001827036</td>\n      <td>1091122418320</td>\n      <td>2039</td>\n      <td>2.5</td>\n      <td>b</td>\n      <td>117.9</td>\n      <td>121003</td>\n      <td>173213</td>\n      <td>143001</td>\n      <td>Forward charges</td>\n      <td>8904223818706</td>\n      <td>127</td>\n      <td>1.60</td>\n    </tr>\n    <tr>\n      <th>4</th>\n      <td>2001827036</td>\n      <td>1091122418320</td>\n      <td>2039</td>\n      <td>2.5</td>\n      <td>d</td>\n      <td>117.9</td>\n      <td>121003</td>\n      <td>173213</td>\n      <td>515591</td>\n      <td>Forward charges</td>\n      <td>8904223818706</td>\n      <td>127</td>\n      <td>1.60</td>\n    </tr>\n    <tr>\n      <th>...</th>\n      <td>...</td>\n      <td>...</td>\n      <td>...</td>\n      <td>...</td>\n      <td>...</td>\n      <td>...</td>\n      <td>...</td>\n      <td>...</td>\n      <td>...</td>\n      <td>...</td>\n      <td>...</td>\n      <td>...</td>\n      <td>...</td>\n    </tr>\n    <tr>\n      <th>49714</th>\n      <td>2001807328</td>\n      <td>1091117324346</td>\n      <td>490</td>\n      <td>0.5</td>\n      <td>b</td>\n      <td>224.6</td>\n      <td>121003</td>\n      <td>335502</td>\n      <td>324008</td>\n      <td>Forward charges</td>\n      <td>8904223818997</td>\n      <td>490</td>\n      <td>2.28</td>\n    </tr>\n    <tr>\n      <th>49715</th>\n      <td>2001807328</td>\n      <td>1091117324346</td>\n      <td>490</td>\n      <td>0.5</td>\n      <td>b</td>\n      <td>224.6</td>\n      <td>121003</td>\n      <td>335502</td>\n      <td>302020</td>\n      <td>Forward charges</td>\n      <td>8904223818997</td>\n      <td>490</td>\n      <td>2.28</td>\n    </tr>\n    <tr>\n      <th>49719</th>\n      <td>2001807328</td>\n      <td>1091117324346</td>\n      <td>490</td>\n      <td>0.5</td>\n      <td>b</td>\n      <td>224.6</td>\n      <td>121003</td>\n      <td>335502</td>\n      <td>325207</td>\n      <td>Forward charges</td>\n      <td>8904223818997</td>\n      <td>490</td>\n      <td>2.28</td>\n    </tr>\n    <tr>\n      <th>49720</th>\n      <td>2001807328</td>\n      <td>1091117324346</td>\n      <td>490</td>\n      <td>0.5</td>\n      <td>b</td>\n      <td>224.6</td>\n      <td>121003</td>\n      <td>335502</td>\n      <td>303702</td>\n      <td>Forward charges</td>\n      <td>8904223818997</td>\n      <td>490</td>\n      <td>2.28</td>\n    </tr>\n    <tr>\n      <th>49721</th>\n      <td>2001807328</td>\n      <td>1091117324346</td>\n      <td>490</td>\n      <td>0.5</td>\n      <td>b</td>\n      <td>224.6</td>\n      <td>121003</td>\n      <td>335502</td>\n      <td>313301</td>\n      <td>Forward charges</td>\n      <td>8904223818997</td>\n      <td>490</td>\n      <td>2.28</td>\n    </tr>\n  </tbody>\n</table>\n<p>42444 rows × 13 columns</p>\n</div>"
     },
     "execution_count": 341,
     "metadata": {},
     "output_type": "execute_result"
    }
   ],
   "source": [
    "comparision"
   ],
   "metadata": {
    "collapsed": false,
    "ExecuteTime": {
     "end_time": "2023-08-27T13:58:09.718046700Z",
     "start_time": "2023-08-27T13:58:09.686368900Z"
    }
   },
   "id": "7e490ee620d3b4b3"
  },
  {
   "cell_type": "code",
   "execution_count": 354,
   "outputs": [
    {
     "data": {
      "text/plain": "fwd_a_fixed         float64\nfwd_a_additional    float64\nfwd_b_fixed           int64\nfwd_b_additional    float64\nfwd_c_fixed         float64\nfwd_c_additional    float64\nfwd_d_fixed         float64\nfwd_d_additional    float64\nfwd_e_fixed         float64\nfwd_e_additional    float64\nrto_a_fixed         float64\nrto_a_additional    float64\nrto_b_fixed         float64\nrto_b_additional    float64\nrto_c_fixed         float64\nrto_c_additional    float64\nrto_d_fixed         float64\nrto_d_additional    float64\nrto_e_fixed         float64\nrto_e_additional    float64\ndtype: object"
     },
     "execution_count": 354,
     "metadata": {},
     "output_type": "execute_result"
    }
   ],
   "source": [
    "#step-5 Calculate Expected Charges\n",
    "\n",
    "rate_card = pd.read_excel('Data-20230825T133440Z-001/Data/Courier Company - Rates.xlsx')\n",
    "rate_card.dtypes"
   ],
   "metadata": {
    "collapsed": false,
    "ExecuteTime": {
     "end_time": "2023-08-27T14:09:39.122753600Z",
     "start_time": "2023-08-27T14:09:39.106710300Z"
    }
   },
   "id": "5928d27e28824fd4"
  },
  {
   "cell_type": "code",
   "execution_count": 360,
   "outputs": [],
   "source": [
    "charges = pd.concat([comparision, rate_card], axis=1)"
   ],
   "metadata": {
    "collapsed": false,
    "ExecuteTime": {
     "end_time": "2023-08-27T14:10:42.878014100Z",
     "start_time": "2023-08-27T14:10:42.859414100Z"
    }
   },
   "id": "2aeaf58e4a600c10"
  },
  {
   "cell_type": "code",
   "execution_count": 361,
   "outputs": [
    {
     "data": {
      "text/plain": "         Order ID       AWB Code  Total Weight  Weight Slab Zone_y  \\\n0      2001827036  1091122418320          2039          2.5      d   \n1      2001827036  1091122418320          2039          2.5      d   \n2      2001827036  1091122418320          2039          2.5      d   \n3      2001827036  1091122418320          2039          2.5      b   \n4      2001827036  1091122418320          2039          2.5      d   \n...           ...            ...           ...          ...    ...   \n49714  2001807328  1091117324346           490          0.5      b   \n49715  2001807328  1091117324346           490          0.5      b   \n49719  2001807328  1091117324346           490          0.5      b   \n49720  2001807328  1091117324346           490          0.5      b   \n49721  2001807328  1091117324346           490          0.5      b   \n\n       Billing Amount (Rs.)  Warehouse Pincode  Customer Pincode_x  \\\n0                     117.9             121003              173213   \n1                     117.9             121003              173213   \n2                     117.9             121003              173213   \n3                     117.9             121003              173213   \n4                     117.9             121003              173213   \n...                     ...                ...                 ...   \n49714                 224.6             121003              335502   \n49715                 224.6             121003              335502   \n49719                 224.6             121003              335502   \n49720                 224.6             121003              335502   \n49721                 224.6             121003              335502   \n\n       Customer Pincode_y Type of Shipment  ... rto_a_fixed  rto_a_additional  \\\n0                  507101  Forward charges  ...        13.6              23.6   \n1                  486886  Forward charges  ...         NaN               NaN   \n2                  532484  Forward charges  ...         NaN               NaN   \n3                  143001  Forward charges  ...         NaN               NaN   \n4                  515591  Forward charges  ...         NaN               NaN   \n...                   ...              ...  ...         ...               ...   \n49714              324008  Forward charges  ...         NaN               NaN   \n49715              302020  Forward charges  ...         NaN               NaN   \n49719              325207  Forward charges  ...         NaN               NaN   \n49720              303702  Forward charges  ...         NaN               NaN   \n49721              313301  Forward charges  ...         NaN               NaN   \n\n       rto_b_fixed  rto_b_additional  rto_c_fixed  rto_c_additional  \\\n0             20.5              28.3         31.9              38.9   \n1              NaN               NaN          NaN               NaN   \n2              NaN               NaN          NaN               NaN   \n3              NaN               NaN          NaN               NaN   \n4              NaN               NaN          NaN               NaN   \n...            ...               ...          ...               ...   \n49714          NaN               NaN          NaN               NaN   \n49715          NaN               NaN          NaN               NaN   \n49719          NaN               NaN          NaN               NaN   \n49720          NaN               NaN          NaN               NaN   \n49721          NaN               NaN          NaN               NaN   \n\n       rto_d_fixed  rto_d_additional  rto_e_fixed  rto_e_additional  \n0             41.3              44.8         50.7              55.5  \n1              NaN               NaN          NaN               NaN  \n2              NaN               NaN          NaN               NaN  \n3              NaN               NaN          NaN               NaN  \n4              NaN               NaN          NaN               NaN  \n...            ...               ...          ...               ...  \n49714          NaN               NaN          NaN               NaN  \n49715          NaN               NaN          NaN               NaN  \n49719          NaN               NaN          NaN               NaN  \n49720          NaN               NaN          NaN               NaN  \n49721          NaN               NaN          NaN               NaN  \n\n[42444 rows x 33 columns]",
      "text/html": "<div>\n<style scoped>\n    .dataframe tbody tr th:only-of-type {\n        vertical-align: middle;\n    }\n\n    .dataframe tbody tr th {\n        vertical-align: top;\n    }\n\n    .dataframe thead th {\n        text-align: right;\n    }\n</style>\n<table border=\"1\" class=\"dataframe\">\n  <thead>\n    <tr style=\"text-align: right;\">\n      <th></th>\n      <th>Order ID</th>\n      <th>AWB Code</th>\n      <th>Total Weight</th>\n      <th>Weight Slab</th>\n      <th>Zone_y</th>\n      <th>Billing Amount (Rs.)</th>\n      <th>Warehouse Pincode</th>\n      <th>Customer Pincode_x</th>\n      <th>Customer Pincode_y</th>\n      <th>Type of Shipment</th>\n      <th>...</th>\n      <th>rto_a_fixed</th>\n      <th>rto_a_additional</th>\n      <th>rto_b_fixed</th>\n      <th>rto_b_additional</th>\n      <th>rto_c_fixed</th>\n      <th>rto_c_additional</th>\n      <th>rto_d_fixed</th>\n      <th>rto_d_additional</th>\n      <th>rto_e_fixed</th>\n      <th>rto_e_additional</th>\n    </tr>\n  </thead>\n  <tbody>\n    <tr>\n      <th>0</th>\n      <td>2001827036</td>\n      <td>1091122418320</td>\n      <td>2039</td>\n      <td>2.5</td>\n      <td>d</td>\n      <td>117.9</td>\n      <td>121003</td>\n      <td>173213</td>\n      <td>507101</td>\n      <td>Forward charges</td>\n      <td>...</td>\n      <td>13.6</td>\n      <td>23.6</td>\n      <td>20.5</td>\n      <td>28.3</td>\n      <td>31.9</td>\n      <td>38.9</td>\n      <td>41.3</td>\n      <td>44.8</td>\n      <td>50.7</td>\n      <td>55.5</td>\n    </tr>\n    <tr>\n      <th>1</th>\n      <td>2001827036</td>\n      <td>1091122418320</td>\n      <td>2039</td>\n      <td>2.5</td>\n      <td>d</td>\n      <td>117.9</td>\n      <td>121003</td>\n      <td>173213</td>\n      <td>486886</td>\n      <td>Forward charges</td>\n      <td>...</td>\n      <td>NaN</td>\n      <td>NaN</td>\n      <td>NaN</td>\n      <td>NaN</td>\n      <td>NaN</td>\n      <td>NaN</td>\n      <td>NaN</td>\n      <td>NaN</td>\n      <td>NaN</td>\n      <td>NaN</td>\n    </tr>\n    <tr>\n      <th>2</th>\n      <td>2001827036</td>\n      <td>1091122418320</td>\n      <td>2039</td>\n      <td>2.5</td>\n      <td>d</td>\n      <td>117.9</td>\n      <td>121003</td>\n      <td>173213</td>\n      <td>532484</td>\n      <td>Forward charges</td>\n      <td>...</td>\n      <td>NaN</td>\n      <td>NaN</td>\n      <td>NaN</td>\n      <td>NaN</td>\n      <td>NaN</td>\n      <td>NaN</td>\n      <td>NaN</td>\n      <td>NaN</td>\n      <td>NaN</td>\n      <td>NaN</td>\n    </tr>\n    <tr>\n      <th>3</th>\n      <td>2001827036</td>\n      <td>1091122418320</td>\n      <td>2039</td>\n      <td>2.5</td>\n      <td>b</td>\n      <td>117.9</td>\n      <td>121003</td>\n      <td>173213</td>\n      <td>143001</td>\n      <td>Forward charges</td>\n      <td>...</td>\n      <td>NaN</td>\n      <td>NaN</td>\n      <td>NaN</td>\n      <td>NaN</td>\n      <td>NaN</td>\n      <td>NaN</td>\n      <td>NaN</td>\n      <td>NaN</td>\n      <td>NaN</td>\n      <td>NaN</td>\n    </tr>\n    <tr>\n      <th>4</th>\n      <td>2001827036</td>\n      <td>1091122418320</td>\n      <td>2039</td>\n      <td>2.5</td>\n      <td>d</td>\n      <td>117.9</td>\n      <td>121003</td>\n      <td>173213</td>\n      <td>515591</td>\n      <td>Forward charges</td>\n      <td>...</td>\n      <td>NaN</td>\n      <td>NaN</td>\n      <td>NaN</td>\n      <td>NaN</td>\n      <td>NaN</td>\n      <td>NaN</td>\n      <td>NaN</td>\n      <td>NaN</td>\n      <td>NaN</td>\n      <td>NaN</td>\n    </tr>\n    <tr>\n      <th>...</th>\n      <td>...</td>\n      <td>...</td>\n      <td>...</td>\n      <td>...</td>\n      <td>...</td>\n      <td>...</td>\n      <td>...</td>\n      <td>...</td>\n      <td>...</td>\n      <td>...</td>\n      <td>...</td>\n      <td>...</td>\n      <td>...</td>\n      <td>...</td>\n      <td>...</td>\n      <td>...</td>\n      <td>...</td>\n      <td>...</td>\n      <td>...</td>\n      <td>...</td>\n      <td>...</td>\n    </tr>\n    <tr>\n      <th>49714</th>\n      <td>2001807328</td>\n      <td>1091117324346</td>\n      <td>490</td>\n      <td>0.5</td>\n      <td>b</td>\n      <td>224.6</td>\n      <td>121003</td>\n      <td>335502</td>\n      <td>324008</td>\n      <td>Forward charges</td>\n      <td>...</td>\n      <td>NaN</td>\n      <td>NaN</td>\n      <td>NaN</td>\n      <td>NaN</td>\n      <td>NaN</td>\n      <td>NaN</td>\n      <td>NaN</td>\n      <td>NaN</td>\n      <td>NaN</td>\n      <td>NaN</td>\n    </tr>\n    <tr>\n      <th>49715</th>\n      <td>2001807328</td>\n      <td>1091117324346</td>\n      <td>490</td>\n      <td>0.5</td>\n      <td>b</td>\n      <td>224.6</td>\n      <td>121003</td>\n      <td>335502</td>\n      <td>302020</td>\n      <td>Forward charges</td>\n      <td>...</td>\n      <td>NaN</td>\n      <td>NaN</td>\n      <td>NaN</td>\n      <td>NaN</td>\n      <td>NaN</td>\n      <td>NaN</td>\n      <td>NaN</td>\n      <td>NaN</td>\n      <td>NaN</td>\n      <td>NaN</td>\n    </tr>\n    <tr>\n      <th>49719</th>\n      <td>2001807328</td>\n      <td>1091117324346</td>\n      <td>490</td>\n      <td>0.5</td>\n      <td>b</td>\n      <td>224.6</td>\n      <td>121003</td>\n      <td>335502</td>\n      <td>325207</td>\n      <td>Forward charges</td>\n      <td>...</td>\n      <td>NaN</td>\n      <td>NaN</td>\n      <td>NaN</td>\n      <td>NaN</td>\n      <td>NaN</td>\n      <td>NaN</td>\n      <td>NaN</td>\n      <td>NaN</td>\n      <td>NaN</td>\n      <td>NaN</td>\n    </tr>\n    <tr>\n      <th>49720</th>\n      <td>2001807328</td>\n      <td>1091117324346</td>\n      <td>490</td>\n      <td>0.5</td>\n      <td>b</td>\n      <td>224.6</td>\n      <td>121003</td>\n      <td>335502</td>\n      <td>303702</td>\n      <td>Forward charges</td>\n      <td>...</td>\n      <td>NaN</td>\n      <td>NaN</td>\n      <td>NaN</td>\n      <td>NaN</td>\n      <td>NaN</td>\n      <td>NaN</td>\n      <td>NaN</td>\n      <td>NaN</td>\n      <td>NaN</td>\n      <td>NaN</td>\n    </tr>\n    <tr>\n      <th>49721</th>\n      <td>2001807328</td>\n      <td>1091117324346</td>\n      <td>490</td>\n      <td>0.5</td>\n      <td>b</td>\n      <td>224.6</td>\n      <td>121003</td>\n      <td>335502</td>\n      <td>313301</td>\n      <td>Forward charges</td>\n      <td>...</td>\n      <td>NaN</td>\n      <td>NaN</td>\n      <td>NaN</td>\n      <td>NaN</td>\n      <td>NaN</td>\n      <td>NaN</td>\n      <td>NaN</td>\n      <td>NaN</td>\n      <td>NaN</td>\n      <td>NaN</td>\n    </tr>\n  </tbody>\n</table>\n<p>42444 rows × 33 columns</p>\n</div>"
     },
     "execution_count": 361,
     "metadata": {},
     "output_type": "execute_result"
    }
   ],
   "source": [
    "charges\n"
   ],
   "metadata": {
    "collapsed": false,
    "ExecuteTime": {
     "end_time": "2023-08-27T14:10:45.465294700Z",
     "start_time": "2023-08-27T14:10:45.417909400Z"
    }
   },
   "id": "f422674141412c6"
  },
  {
   "cell_type": "code",
   "execution_count": 369,
   "outputs": [],
   "source": [
    "def calculate_expected_charge(row):\n",
    "    zone = row['Zone_y'].lower()\n",
    "    fwd_fixed = row[f'fwd_{zone}_fixed']\n",
    "    fwd_additional = row[f'fwd_{zone}_additional']\n",
    "    rto_fixed = row[f'rto_{zone}_fixed']\n",
    "    rto_additional = row[f'rto_{zone}_additional']\n",
    "    if row['Type of Shipment'] == 'Forward charges':\n",
    "        return fwd_fixed + fwd_additional * (row['Weight Slab'] - 0.5) / 0.5\n",
    "    elif row['Type of Shipment'] == 'Forward and RTO charges':\n",
    "        return fwd_fixed + fwd_additional * (row['Weight Slab'] - 0.5) / 0.5 + rto_fixed + rto_additional * (row['Weight Slab'] - 0.5) / 0.5\n",
    "    else:\n",
    "        return 0\n",
    "\n",
    "charges['Expected Charge'] = charges.apply(calculate_expected_charge, axis=1)\n"
   ],
   "metadata": {
    "collapsed": false,
    "ExecuteTime": {
     "end_time": "2023-08-27T14:22:20.673440100Z",
     "start_time": "2023-08-27T14:22:19.962346100Z"
    }
   },
   "id": "fee5d089ba09c6ee"
  },
  {
   "cell_type": "code",
   "execution_count": 370,
   "outputs": [
    {
     "data": {
      "text/plain": "         Order ID       AWB Code  Total Weight  Weight Slab Zone_y  \\\n0      2001827036  1091122418320          2039          2.5      d   \n1      2001827036  1091122418320          2039          2.5      d   \n2      2001827036  1091122418320          2039          2.5      d   \n3      2001827036  1091122418320          2039          2.5      b   \n4      2001827036  1091122418320          2039          2.5      d   \n...           ...            ...           ...          ...    ...   \n49714  2001807328  1091117324346           490          0.5      b   \n49715  2001807328  1091117324346           490          0.5      b   \n49719  2001807328  1091117324346           490          0.5      b   \n49720  2001807328  1091117324346           490          0.5      b   \n49721  2001807328  1091117324346           490          0.5      b   \n\n       Billing Amount (Rs.)  Warehouse Pincode  Customer Pincode_x  \\\n0                     117.9             121003              173213   \n1                     117.9             121003              173213   \n2                     117.9             121003              173213   \n3                     117.9             121003              173213   \n4                     117.9             121003              173213   \n...                     ...                ...                 ...   \n49714                 224.6             121003              335502   \n49715                 224.6             121003              335502   \n49719                 224.6             121003              335502   \n49720                 224.6             121003              335502   \n49721                 224.6             121003              335502   \n\n       Customer Pincode_y Type of Shipment  ... rto_a_additional  rto_b_fixed  \\\n0                  507101  Forward charges  ...             23.6         20.5   \n1                  486886  Forward charges  ...              NaN          NaN   \n2                  532484  Forward charges  ...              NaN          NaN   \n3                  143001  Forward charges  ...              NaN          NaN   \n4                  515591  Forward charges  ...              NaN          NaN   \n...                   ...              ...  ...              ...          ...   \n49714              324008  Forward charges  ...              NaN          NaN   \n49715              302020  Forward charges  ...              NaN          NaN   \n49719              325207  Forward charges  ...              NaN          NaN   \n49720              303702  Forward charges  ...              NaN          NaN   \n49721              313301  Forward charges  ...              NaN          NaN   \n\n       rto_b_additional  rto_c_fixed  rto_c_additional  rto_d_fixed  \\\n0                  28.3         31.9              38.9         41.3   \n1                   NaN          NaN               NaN          NaN   \n2                   NaN          NaN               NaN          NaN   \n3                   NaN          NaN               NaN          NaN   \n4                   NaN          NaN               NaN          NaN   \n...                 ...          ...               ...          ...   \n49714               NaN          NaN               NaN          NaN   \n49715               NaN          NaN               NaN          NaN   \n49719               NaN          NaN               NaN          NaN   \n49720               NaN          NaN               NaN          NaN   \n49721               NaN          NaN               NaN          NaN   \n\n       rto_d_additional  rto_e_fixed  rto_e_additional  Expected Charge  \n0                  44.8         50.7              55.5            224.6  \n1                   NaN          NaN               NaN              NaN  \n2                   NaN          NaN               NaN              NaN  \n3                   NaN          NaN               NaN              NaN  \n4                   NaN          NaN               NaN              NaN  \n...                 ...          ...               ...              ...  \n49714               NaN          NaN               NaN              NaN  \n49715               NaN          NaN               NaN              NaN  \n49719               NaN          NaN               NaN              NaN  \n49720               NaN          NaN               NaN              NaN  \n49721               NaN          NaN               NaN              NaN  \n\n[42444 rows x 34 columns]",
      "text/html": "<div>\n<style scoped>\n    .dataframe tbody tr th:only-of-type {\n        vertical-align: middle;\n    }\n\n    .dataframe tbody tr th {\n        vertical-align: top;\n    }\n\n    .dataframe thead th {\n        text-align: right;\n    }\n</style>\n<table border=\"1\" class=\"dataframe\">\n  <thead>\n    <tr style=\"text-align: right;\">\n      <th></th>\n      <th>Order ID</th>\n      <th>AWB Code</th>\n      <th>Total Weight</th>\n      <th>Weight Slab</th>\n      <th>Zone_y</th>\n      <th>Billing Amount (Rs.)</th>\n      <th>Warehouse Pincode</th>\n      <th>Customer Pincode_x</th>\n      <th>Customer Pincode_y</th>\n      <th>Type of Shipment</th>\n      <th>...</th>\n      <th>rto_a_additional</th>\n      <th>rto_b_fixed</th>\n      <th>rto_b_additional</th>\n      <th>rto_c_fixed</th>\n      <th>rto_c_additional</th>\n      <th>rto_d_fixed</th>\n      <th>rto_d_additional</th>\n      <th>rto_e_fixed</th>\n      <th>rto_e_additional</th>\n      <th>Expected Charge</th>\n    </tr>\n  </thead>\n  <tbody>\n    <tr>\n      <th>0</th>\n      <td>2001827036</td>\n      <td>1091122418320</td>\n      <td>2039</td>\n      <td>2.5</td>\n      <td>d</td>\n      <td>117.9</td>\n      <td>121003</td>\n      <td>173213</td>\n      <td>507101</td>\n      <td>Forward charges</td>\n      <td>...</td>\n      <td>23.6</td>\n      <td>20.5</td>\n      <td>28.3</td>\n      <td>31.9</td>\n      <td>38.9</td>\n      <td>41.3</td>\n      <td>44.8</td>\n      <td>50.7</td>\n      <td>55.5</td>\n      <td>224.6</td>\n    </tr>\n    <tr>\n      <th>1</th>\n      <td>2001827036</td>\n      <td>1091122418320</td>\n      <td>2039</td>\n      <td>2.5</td>\n      <td>d</td>\n      <td>117.9</td>\n      <td>121003</td>\n      <td>173213</td>\n      <td>486886</td>\n      <td>Forward charges</td>\n      <td>...</td>\n      <td>NaN</td>\n      <td>NaN</td>\n      <td>NaN</td>\n      <td>NaN</td>\n      <td>NaN</td>\n      <td>NaN</td>\n      <td>NaN</td>\n      <td>NaN</td>\n      <td>NaN</td>\n      <td>NaN</td>\n    </tr>\n    <tr>\n      <th>2</th>\n      <td>2001827036</td>\n      <td>1091122418320</td>\n      <td>2039</td>\n      <td>2.5</td>\n      <td>d</td>\n      <td>117.9</td>\n      <td>121003</td>\n      <td>173213</td>\n      <td>532484</td>\n      <td>Forward charges</td>\n      <td>...</td>\n      <td>NaN</td>\n      <td>NaN</td>\n      <td>NaN</td>\n      <td>NaN</td>\n      <td>NaN</td>\n      <td>NaN</td>\n      <td>NaN</td>\n      <td>NaN</td>\n      <td>NaN</td>\n      <td>NaN</td>\n    </tr>\n    <tr>\n      <th>3</th>\n      <td>2001827036</td>\n      <td>1091122418320</td>\n      <td>2039</td>\n      <td>2.5</td>\n      <td>b</td>\n      <td>117.9</td>\n      <td>121003</td>\n      <td>173213</td>\n      <td>143001</td>\n      <td>Forward charges</td>\n      <td>...</td>\n      <td>NaN</td>\n      <td>NaN</td>\n      <td>NaN</td>\n      <td>NaN</td>\n      <td>NaN</td>\n      <td>NaN</td>\n      <td>NaN</td>\n      <td>NaN</td>\n      <td>NaN</td>\n      <td>NaN</td>\n    </tr>\n    <tr>\n      <th>4</th>\n      <td>2001827036</td>\n      <td>1091122418320</td>\n      <td>2039</td>\n      <td>2.5</td>\n      <td>d</td>\n      <td>117.9</td>\n      <td>121003</td>\n      <td>173213</td>\n      <td>515591</td>\n      <td>Forward charges</td>\n      <td>...</td>\n      <td>NaN</td>\n      <td>NaN</td>\n      <td>NaN</td>\n      <td>NaN</td>\n      <td>NaN</td>\n      <td>NaN</td>\n      <td>NaN</td>\n      <td>NaN</td>\n      <td>NaN</td>\n      <td>NaN</td>\n    </tr>\n    <tr>\n      <th>...</th>\n      <td>...</td>\n      <td>...</td>\n      <td>...</td>\n      <td>...</td>\n      <td>...</td>\n      <td>...</td>\n      <td>...</td>\n      <td>...</td>\n      <td>...</td>\n      <td>...</td>\n      <td>...</td>\n      <td>...</td>\n      <td>...</td>\n      <td>...</td>\n      <td>...</td>\n      <td>...</td>\n      <td>...</td>\n      <td>...</td>\n      <td>...</td>\n      <td>...</td>\n      <td>...</td>\n    </tr>\n    <tr>\n      <th>49714</th>\n      <td>2001807328</td>\n      <td>1091117324346</td>\n      <td>490</td>\n      <td>0.5</td>\n      <td>b</td>\n      <td>224.6</td>\n      <td>121003</td>\n      <td>335502</td>\n      <td>324008</td>\n      <td>Forward charges</td>\n      <td>...</td>\n      <td>NaN</td>\n      <td>NaN</td>\n      <td>NaN</td>\n      <td>NaN</td>\n      <td>NaN</td>\n      <td>NaN</td>\n      <td>NaN</td>\n      <td>NaN</td>\n      <td>NaN</td>\n      <td>NaN</td>\n    </tr>\n    <tr>\n      <th>49715</th>\n      <td>2001807328</td>\n      <td>1091117324346</td>\n      <td>490</td>\n      <td>0.5</td>\n      <td>b</td>\n      <td>224.6</td>\n      <td>121003</td>\n      <td>335502</td>\n      <td>302020</td>\n      <td>Forward charges</td>\n      <td>...</td>\n      <td>NaN</td>\n      <td>NaN</td>\n      <td>NaN</td>\n      <td>NaN</td>\n      <td>NaN</td>\n      <td>NaN</td>\n      <td>NaN</td>\n      <td>NaN</td>\n      <td>NaN</td>\n      <td>NaN</td>\n    </tr>\n    <tr>\n      <th>49719</th>\n      <td>2001807328</td>\n      <td>1091117324346</td>\n      <td>490</td>\n      <td>0.5</td>\n      <td>b</td>\n      <td>224.6</td>\n      <td>121003</td>\n      <td>335502</td>\n      <td>325207</td>\n      <td>Forward charges</td>\n      <td>...</td>\n      <td>NaN</td>\n      <td>NaN</td>\n      <td>NaN</td>\n      <td>NaN</td>\n      <td>NaN</td>\n      <td>NaN</td>\n      <td>NaN</td>\n      <td>NaN</td>\n      <td>NaN</td>\n      <td>NaN</td>\n    </tr>\n    <tr>\n      <th>49720</th>\n      <td>2001807328</td>\n      <td>1091117324346</td>\n      <td>490</td>\n      <td>0.5</td>\n      <td>b</td>\n      <td>224.6</td>\n      <td>121003</td>\n      <td>335502</td>\n      <td>303702</td>\n      <td>Forward charges</td>\n      <td>...</td>\n      <td>NaN</td>\n      <td>NaN</td>\n      <td>NaN</td>\n      <td>NaN</td>\n      <td>NaN</td>\n      <td>NaN</td>\n      <td>NaN</td>\n      <td>NaN</td>\n      <td>NaN</td>\n      <td>NaN</td>\n    </tr>\n    <tr>\n      <th>49721</th>\n      <td>2001807328</td>\n      <td>1091117324346</td>\n      <td>490</td>\n      <td>0.5</td>\n      <td>b</td>\n      <td>224.6</td>\n      <td>121003</td>\n      <td>335502</td>\n      <td>313301</td>\n      <td>Forward charges</td>\n      <td>...</td>\n      <td>NaN</td>\n      <td>NaN</td>\n      <td>NaN</td>\n      <td>NaN</td>\n      <td>NaN</td>\n      <td>NaN</td>\n      <td>NaN</td>\n      <td>NaN</td>\n      <td>NaN</td>\n      <td>NaN</td>\n    </tr>\n  </tbody>\n</table>\n<p>42444 rows × 34 columns</p>\n</div>"
     },
     "execution_count": 370,
     "metadata": {},
     "output_type": "execute_result"
    }
   ],
   "source": [
    "charges"
   ],
   "metadata": {
    "collapsed": false,
    "ExecuteTime": {
     "end_time": "2023-08-27T14:22:21.343519500Z",
     "start_time": "2023-08-27T14:22:21.310774400Z"
    }
   },
   "id": "deac5dbb850a81c8"
  },
  {
   "cell_type": "code",
   "execution_count": 374,
   "outputs": [],
   "source": [
    "charges['Diffrence'] = charges[\"Expected Charge\"] - charges['Billing Amount (Rs.)']"
   ],
   "metadata": {
    "collapsed": false,
    "ExecuteTime": {
     "end_time": "2023-08-27T14:25:13.398953100Z",
     "start_time": "2023-08-27T14:25:13.336476400Z"
    }
   },
   "id": "db987f3d1cba281a"
  },
  {
   "cell_type": "code",
   "execution_count": 375,
   "outputs": [
    {
     "data": {
      "text/plain": "         Order ID       AWB Code  Total Weight  Weight Slab Zone_y  \\\n0      2001827036  1091122418320          2039          2.5      d   \n1      2001827036  1091122418320          2039          2.5      d   \n2      2001827036  1091122418320          2039          2.5      d   \n3      2001827036  1091122418320          2039          2.5      b   \n4      2001827036  1091122418320          2039          2.5      d   \n...           ...            ...           ...          ...    ...   \n49714  2001807328  1091117324346           490          0.5      b   \n49715  2001807328  1091117324346           490          0.5      b   \n49719  2001807328  1091117324346           490          0.5      b   \n49720  2001807328  1091117324346           490          0.5      b   \n49721  2001807328  1091117324346           490          0.5      b   \n\n       Billing Amount (Rs.)  Warehouse Pincode  Customer Pincode_x  \\\n0                     117.9             121003              173213   \n1                     117.9             121003              173213   \n2                     117.9             121003              173213   \n3                     117.9             121003              173213   \n4                     117.9             121003              173213   \n...                     ...                ...                 ...   \n49714                 224.6             121003              335502   \n49715                 224.6             121003              335502   \n49719                 224.6             121003              335502   \n49720                 224.6             121003              335502   \n49721                 224.6             121003              335502   \n\n       Customer Pincode_y Type of Shipment  ... rto_b_fixed  rto_b_additional  \\\n0                  507101  Forward charges  ...        20.5              28.3   \n1                  486886  Forward charges  ...         NaN               NaN   \n2                  532484  Forward charges  ...         NaN               NaN   \n3                  143001  Forward charges  ...         NaN               NaN   \n4                  515591  Forward charges  ...         NaN               NaN   \n...                   ...              ...  ...         ...               ...   \n49714              324008  Forward charges  ...         NaN               NaN   \n49715              302020  Forward charges  ...         NaN               NaN   \n49719              325207  Forward charges  ...         NaN               NaN   \n49720              303702  Forward charges  ...         NaN               NaN   \n49721              313301  Forward charges  ...         NaN               NaN   \n\n       rto_c_fixed  rto_c_additional  rto_d_fixed  rto_d_additional  \\\n0             31.9              38.9         41.3              44.8   \n1              NaN               NaN          NaN               NaN   \n2              NaN               NaN          NaN               NaN   \n3              NaN               NaN          NaN               NaN   \n4              NaN               NaN          NaN               NaN   \n...            ...               ...          ...               ...   \n49714          NaN               NaN          NaN               NaN   \n49715          NaN               NaN          NaN               NaN   \n49719          NaN               NaN          NaN               NaN   \n49720          NaN               NaN          NaN               NaN   \n49721          NaN               NaN          NaN               NaN   \n\n       rto_e_fixed  rto_e_additional  Expected Charge  Diffrence  \n0             50.7              55.5            224.6      106.7  \n1              NaN               NaN              NaN        NaN  \n2              NaN               NaN              NaN        NaN  \n3              NaN               NaN              NaN        NaN  \n4              NaN               NaN              NaN        NaN  \n...            ...               ...              ...        ...  \n49714          NaN               NaN              NaN        NaN  \n49715          NaN               NaN              NaN        NaN  \n49719          NaN               NaN              NaN        NaN  \n49720          NaN               NaN              NaN        NaN  \n49721          NaN               NaN              NaN        NaN  \n\n[42444 rows x 35 columns]",
      "text/html": "<div>\n<style scoped>\n    .dataframe tbody tr th:only-of-type {\n        vertical-align: middle;\n    }\n\n    .dataframe tbody tr th {\n        vertical-align: top;\n    }\n\n    .dataframe thead th {\n        text-align: right;\n    }\n</style>\n<table border=\"1\" class=\"dataframe\">\n  <thead>\n    <tr style=\"text-align: right;\">\n      <th></th>\n      <th>Order ID</th>\n      <th>AWB Code</th>\n      <th>Total Weight</th>\n      <th>Weight Slab</th>\n      <th>Zone_y</th>\n      <th>Billing Amount (Rs.)</th>\n      <th>Warehouse Pincode</th>\n      <th>Customer Pincode_x</th>\n      <th>Customer Pincode_y</th>\n      <th>Type of Shipment</th>\n      <th>...</th>\n      <th>rto_b_fixed</th>\n      <th>rto_b_additional</th>\n      <th>rto_c_fixed</th>\n      <th>rto_c_additional</th>\n      <th>rto_d_fixed</th>\n      <th>rto_d_additional</th>\n      <th>rto_e_fixed</th>\n      <th>rto_e_additional</th>\n      <th>Expected Charge</th>\n      <th>Diffrence</th>\n    </tr>\n  </thead>\n  <tbody>\n    <tr>\n      <th>0</th>\n      <td>2001827036</td>\n      <td>1091122418320</td>\n      <td>2039</td>\n      <td>2.5</td>\n      <td>d</td>\n      <td>117.9</td>\n      <td>121003</td>\n      <td>173213</td>\n      <td>507101</td>\n      <td>Forward charges</td>\n      <td>...</td>\n      <td>20.5</td>\n      <td>28.3</td>\n      <td>31.9</td>\n      <td>38.9</td>\n      <td>41.3</td>\n      <td>44.8</td>\n      <td>50.7</td>\n      <td>55.5</td>\n      <td>224.6</td>\n      <td>106.7</td>\n    </tr>\n    <tr>\n      <th>1</th>\n      <td>2001827036</td>\n      <td>1091122418320</td>\n      <td>2039</td>\n      <td>2.5</td>\n      <td>d</td>\n      <td>117.9</td>\n      <td>121003</td>\n      <td>173213</td>\n      <td>486886</td>\n      <td>Forward charges</td>\n      <td>...</td>\n      <td>NaN</td>\n      <td>NaN</td>\n      <td>NaN</td>\n      <td>NaN</td>\n      <td>NaN</td>\n      <td>NaN</td>\n      <td>NaN</td>\n      <td>NaN</td>\n      <td>NaN</td>\n      <td>NaN</td>\n    </tr>\n    <tr>\n      <th>2</th>\n      <td>2001827036</td>\n      <td>1091122418320</td>\n      <td>2039</td>\n      <td>2.5</td>\n      <td>d</td>\n      <td>117.9</td>\n      <td>121003</td>\n      <td>173213</td>\n      <td>532484</td>\n      <td>Forward charges</td>\n      <td>...</td>\n      <td>NaN</td>\n      <td>NaN</td>\n      <td>NaN</td>\n      <td>NaN</td>\n      <td>NaN</td>\n      <td>NaN</td>\n      <td>NaN</td>\n      <td>NaN</td>\n      <td>NaN</td>\n      <td>NaN</td>\n    </tr>\n    <tr>\n      <th>3</th>\n      <td>2001827036</td>\n      <td>1091122418320</td>\n      <td>2039</td>\n      <td>2.5</td>\n      <td>b</td>\n      <td>117.9</td>\n      <td>121003</td>\n      <td>173213</td>\n      <td>143001</td>\n      <td>Forward charges</td>\n      <td>...</td>\n      <td>NaN</td>\n      <td>NaN</td>\n      <td>NaN</td>\n      <td>NaN</td>\n      <td>NaN</td>\n      <td>NaN</td>\n      <td>NaN</td>\n      <td>NaN</td>\n      <td>NaN</td>\n      <td>NaN</td>\n    </tr>\n    <tr>\n      <th>4</th>\n      <td>2001827036</td>\n      <td>1091122418320</td>\n      <td>2039</td>\n      <td>2.5</td>\n      <td>d</td>\n      <td>117.9</td>\n      <td>121003</td>\n      <td>173213</td>\n      <td>515591</td>\n      <td>Forward charges</td>\n      <td>...</td>\n      <td>NaN</td>\n      <td>NaN</td>\n      <td>NaN</td>\n      <td>NaN</td>\n      <td>NaN</td>\n      <td>NaN</td>\n      <td>NaN</td>\n      <td>NaN</td>\n      <td>NaN</td>\n      <td>NaN</td>\n    </tr>\n    <tr>\n      <th>...</th>\n      <td>...</td>\n      <td>...</td>\n      <td>...</td>\n      <td>...</td>\n      <td>...</td>\n      <td>...</td>\n      <td>...</td>\n      <td>...</td>\n      <td>...</td>\n      <td>...</td>\n      <td>...</td>\n      <td>...</td>\n      <td>...</td>\n      <td>...</td>\n      <td>...</td>\n      <td>...</td>\n      <td>...</td>\n      <td>...</td>\n      <td>...</td>\n      <td>...</td>\n      <td>...</td>\n    </tr>\n    <tr>\n      <th>49714</th>\n      <td>2001807328</td>\n      <td>1091117324346</td>\n      <td>490</td>\n      <td>0.5</td>\n      <td>b</td>\n      <td>224.6</td>\n      <td>121003</td>\n      <td>335502</td>\n      <td>324008</td>\n      <td>Forward charges</td>\n      <td>...</td>\n      <td>NaN</td>\n      <td>NaN</td>\n      <td>NaN</td>\n      <td>NaN</td>\n      <td>NaN</td>\n      <td>NaN</td>\n      <td>NaN</td>\n      <td>NaN</td>\n      <td>NaN</td>\n      <td>NaN</td>\n    </tr>\n    <tr>\n      <th>49715</th>\n      <td>2001807328</td>\n      <td>1091117324346</td>\n      <td>490</td>\n      <td>0.5</td>\n      <td>b</td>\n      <td>224.6</td>\n      <td>121003</td>\n      <td>335502</td>\n      <td>302020</td>\n      <td>Forward charges</td>\n      <td>...</td>\n      <td>NaN</td>\n      <td>NaN</td>\n      <td>NaN</td>\n      <td>NaN</td>\n      <td>NaN</td>\n      <td>NaN</td>\n      <td>NaN</td>\n      <td>NaN</td>\n      <td>NaN</td>\n      <td>NaN</td>\n    </tr>\n    <tr>\n      <th>49719</th>\n      <td>2001807328</td>\n      <td>1091117324346</td>\n      <td>490</td>\n      <td>0.5</td>\n      <td>b</td>\n      <td>224.6</td>\n      <td>121003</td>\n      <td>335502</td>\n      <td>325207</td>\n      <td>Forward charges</td>\n      <td>...</td>\n      <td>NaN</td>\n      <td>NaN</td>\n      <td>NaN</td>\n      <td>NaN</td>\n      <td>NaN</td>\n      <td>NaN</td>\n      <td>NaN</td>\n      <td>NaN</td>\n      <td>NaN</td>\n      <td>NaN</td>\n    </tr>\n    <tr>\n      <th>49720</th>\n      <td>2001807328</td>\n      <td>1091117324346</td>\n      <td>490</td>\n      <td>0.5</td>\n      <td>b</td>\n      <td>224.6</td>\n      <td>121003</td>\n      <td>335502</td>\n      <td>303702</td>\n      <td>Forward charges</td>\n      <td>...</td>\n      <td>NaN</td>\n      <td>NaN</td>\n      <td>NaN</td>\n      <td>NaN</td>\n      <td>NaN</td>\n      <td>NaN</td>\n      <td>NaN</td>\n      <td>NaN</td>\n      <td>NaN</td>\n      <td>NaN</td>\n    </tr>\n    <tr>\n      <th>49721</th>\n      <td>2001807328</td>\n      <td>1091117324346</td>\n      <td>490</td>\n      <td>0.5</td>\n      <td>b</td>\n      <td>224.6</td>\n      <td>121003</td>\n      <td>335502</td>\n      <td>313301</td>\n      <td>Forward charges</td>\n      <td>...</td>\n      <td>NaN</td>\n      <td>NaN</td>\n      <td>NaN</td>\n      <td>NaN</td>\n      <td>NaN</td>\n      <td>NaN</td>\n      <td>NaN</td>\n      <td>NaN</td>\n      <td>NaN</td>\n      <td>NaN</td>\n    </tr>\n  </tbody>\n</table>\n<p>42444 rows × 35 columns</p>\n</div>"
     },
     "execution_count": 375,
     "metadata": {},
     "output_type": "execute_result"
    }
   ],
   "source": [
    "charges"
   ],
   "metadata": {
    "collapsed": false,
    "ExecuteTime": {
     "end_time": "2023-08-27T14:25:13.857623700Z",
     "start_time": "2023-08-27T14:25:13.812200500Z"
    }
   },
   "id": "51b49e819ae7c7c9"
  },
  {
   "cell_type": "code",
   "execution_count": null,
   "outputs": [],
   "source": [],
   "metadata": {
    "collapsed": false
   },
   "id": "d45440e3c074f641"
  }
 ],
 "metadata": {
  "kernelspec": {
   "display_name": "Python 3",
   "language": "python",
   "name": "python3"
  },
  "language_info": {
   "codemirror_mode": {
    "name": "ipython",
    "version": 2
   },
   "file_extension": ".py",
   "mimetype": "text/x-python",
   "name": "python",
   "nbconvert_exporter": "python",
   "pygments_lexer": "ipython2",
   "version": "2.7.6"
  }
 },
 "nbformat": 4,
 "nbformat_minor": 5
}
